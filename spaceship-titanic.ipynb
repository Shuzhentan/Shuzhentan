{
 "cells": [
  {
   "cell_type": "code",
   "execution_count": 1,
   "id": "70bc2c40",
   "metadata": {
    "_cell_guid": "b1076dfc-b9ad-4769-8c92-a6c4dae69d19",
    "_uuid": "8f2839f25d086af736a60e9eeb907d3b93b6e0e5",
    "execution": {
     "iopub.execute_input": "2022-08-22T14:48:41.662616Z",
     "iopub.status.busy": "2022-08-22T14:48:41.662163Z",
     "iopub.status.idle": "2022-08-22T14:48:41.677872Z",
     "shell.execute_reply": "2022-08-22T14:48:41.677170Z"
    },
    "papermill": {
     "duration": 0.02997,
     "end_time": "2022-08-22T14:48:41.679922",
     "exception": false,
     "start_time": "2022-08-22T14:48:41.649952",
     "status": "completed"
    },
    "tags": []
   },
   "outputs": [
    {
     "name": "stdout",
     "output_type": "stream",
     "text": [
      "/kaggle/input/spaceship-titanic/sample_submission.csv\n",
      "/kaggle/input/spaceship-titanic/train.csv\n",
      "/kaggle/input/spaceship-titanic/test.csv\n"
     ]
    }
   ],
   "source": [
    "# This Python 3 environment comes with many helpful analytics libraries installed\n",
    "# It is defined by the kaggle/python Docker image: https://github.com/kaggle/docker-python\n",
    "# For example, here's several helpful packages to load\n",
    "\n",
    "import numpy as np # linear algebra\n",
    "import pandas as pd # data processing, CSV file I/O (e.g. pd.read_csv)\n",
    "\n",
    "# Input data files are available in the read-only \"../input/\" directory\n",
    "# For example, running this (by clicking run or pressing Shift+Enter) will list all files under the input directory\n",
    "\n",
    "import os\n",
    "for dirname, _, filenames in os.walk('/kaggle/input'):\n",
    "    for filename in filenames:\n",
    "        print(os.path.join(dirname, filename))\n",
    "\n",
    "# You can write up to 20GB to the current directory (/kaggle/working/) that gets preserved as output when you create a version using \"Save & Run All\" \n",
    "# You can also write temporary files to /kaggle/temp/, but they won't be saved outside of the current session"
   ]
  },
  {
   "cell_type": "code",
   "execution_count": 2,
   "id": "87f99a5e",
   "metadata": {
    "execution": {
     "iopub.execute_input": "2022-08-22T14:48:41.702171Z",
     "iopub.status.busy": "2022-08-22T14:48:41.701556Z",
     "iopub.status.idle": "2022-08-22T14:48:41.769525Z",
     "shell.execute_reply": "2022-08-22T14:48:41.767973Z"
    },
    "papermill": {
     "duration": 0.081412,
     "end_time": "2022-08-22T14:48:41.771667",
     "exception": false,
     "start_time": "2022-08-22T14:48:41.690255",
     "status": "completed"
    },
    "tags": []
   },
   "outputs": [],
   "source": [
    "train_set = pd.read_csv('/kaggle/input/spaceship-titanic/train.csv')\n",
    "test_set = pd.read_csv('/kaggle/input/spaceship-titanic/test.csv')"
   ]
  },
  {
   "cell_type": "code",
   "execution_count": 3,
   "id": "5eaa76f4",
   "metadata": {
    "execution": {
     "iopub.execute_input": "2022-08-22T14:48:41.793016Z",
     "iopub.status.busy": "2022-08-22T14:48:41.792481Z",
     "iopub.status.idle": "2022-08-22T14:48:41.822564Z",
     "shell.execute_reply": "2022-08-22T14:48:41.820605Z"
    },
    "papermill": {
     "duration": 0.044041,
     "end_time": "2022-08-22T14:48:41.825390",
     "exception": false,
     "start_time": "2022-08-22T14:48:41.781349",
     "status": "completed"
    },
    "tags": []
   },
   "outputs": [
    {
     "name": "stdout",
     "output_type": "stream",
     "text": [
      "<class 'pandas.core.frame.DataFrame'>\n",
      "RangeIndex: 8693 entries, 0 to 8692\n",
      "Data columns (total 14 columns):\n",
      " #   Column        Non-Null Count  Dtype  \n",
      "---  ------        --------------  -----  \n",
      " 0   PassengerId   8693 non-null   object \n",
      " 1   HomePlanet    8492 non-null   object \n",
      " 2   CryoSleep     8476 non-null   object \n",
      " 3   Cabin         8494 non-null   object \n",
      " 4   Destination   8511 non-null   object \n",
      " 5   Age           8514 non-null   float64\n",
      " 6   VIP           8490 non-null   object \n",
      " 7   RoomService   8512 non-null   float64\n",
      " 8   FoodCourt     8510 non-null   float64\n",
      " 9   ShoppingMall  8485 non-null   float64\n",
      " 10  Spa           8510 non-null   float64\n",
      " 11  VRDeck        8505 non-null   float64\n",
      " 12  Name          8493 non-null   object \n",
      " 13  Transported   8693 non-null   bool   \n",
      "dtypes: bool(1), float64(6), object(7)\n",
      "memory usage: 891.5+ KB\n"
     ]
    }
   ],
   "source": [
    "train_set.info()"
   ]
  },
  {
   "cell_type": "markdown",
   "id": "6ae63528",
   "metadata": {
    "papermill": {
     "duration": 0.010735,
     "end_time": "2022-08-22T14:48:41.847272",
     "exception": false,
     "start_time": "2022-08-22T14:48:41.836537",
     "status": "completed"
    },
    "tags": []
   },
   "source": [
    "All features have missing values, except `PassengerId`."
   ]
  },
  {
   "cell_type": "code",
   "execution_count": 4,
   "id": "1db4ca86",
   "metadata": {
    "execution": {
     "iopub.execute_input": "2022-08-22T14:48:41.869833Z",
     "iopub.status.busy": "2022-08-22T14:48:41.869238Z",
     "iopub.status.idle": "2022-08-22T14:48:41.881025Z",
     "shell.execute_reply": "2022-08-22T14:48:41.880040Z"
    },
    "papermill": {
     "duration": 0.026048,
     "end_time": "2022-08-22T14:48:41.883469",
     "exception": false,
     "start_time": "2022-08-22T14:48:41.857421",
     "status": "completed"
    },
    "tags": []
   },
   "outputs": [
    {
     "name": "stdout",
     "output_type": "stream",
     "text": [
      "<class 'pandas.core.frame.DataFrame'>\n",
      "RangeIndex: 4277 entries, 0 to 4276\n",
      "Data columns (total 13 columns):\n",
      " #   Column        Non-Null Count  Dtype  \n",
      "---  ------        --------------  -----  \n",
      " 0   PassengerId   4277 non-null   object \n",
      " 1   HomePlanet    4190 non-null   object \n",
      " 2   CryoSleep     4184 non-null   object \n",
      " 3   Cabin         4177 non-null   object \n",
      " 4   Destination   4185 non-null   object \n",
      " 5   Age           4186 non-null   float64\n",
      " 6   VIP           4184 non-null   object \n",
      " 7   RoomService   4195 non-null   float64\n",
      " 8   FoodCourt     4171 non-null   float64\n",
      " 9   ShoppingMall  4179 non-null   float64\n",
      " 10  Spa           4176 non-null   float64\n",
      " 11  VRDeck        4197 non-null   float64\n",
      " 12  Name          4183 non-null   object \n",
      "dtypes: float64(6), object(7)\n",
      "memory usage: 434.5+ KB\n"
     ]
    }
   ],
   "source": [
    "test_set.info()"
   ]
  },
  {
   "cell_type": "code",
   "execution_count": 5,
   "id": "22aab842",
   "metadata": {
    "execution": {
     "iopub.execute_input": "2022-08-22T14:48:41.904998Z",
     "iopub.status.busy": "2022-08-22T14:48:41.904665Z",
     "iopub.status.idle": "2022-08-22T14:48:41.927621Z",
     "shell.execute_reply": "2022-08-22T14:48:41.926247Z"
    },
    "papermill": {
     "duration": 0.035861,
     "end_time": "2022-08-22T14:48:41.929199",
     "exception": false,
     "start_time": "2022-08-22T14:48:41.893338",
     "status": "completed"
    },
    "tags": []
   },
   "outputs": [
    {
     "data": {
      "text/html": [
       "<div>\n",
       "<style scoped>\n",
       "    .dataframe tbody tr th:only-of-type {\n",
       "        vertical-align: middle;\n",
       "    }\n",
       "\n",
       "    .dataframe tbody tr th {\n",
       "        vertical-align: top;\n",
       "    }\n",
       "\n",
       "    .dataframe thead th {\n",
       "        text-align: right;\n",
       "    }\n",
       "</style>\n",
       "<table border=\"1\" class=\"dataframe\">\n",
       "  <thead>\n",
       "    <tr style=\"text-align: right;\">\n",
       "      <th></th>\n",
       "      <th>PassengerId</th>\n",
       "      <th>HomePlanet</th>\n",
       "      <th>CryoSleep</th>\n",
       "      <th>Cabin</th>\n",
       "      <th>Destination</th>\n",
       "      <th>Age</th>\n",
       "      <th>VIP</th>\n",
       "      <th>RoomService</th>\n",
       "      <th>FoodCourt</th>\n",
       "      <th>ShoppingMall</th>\n",
       "      <th>Spa</th>\n",
       "      <th>VRDeck</th>\n",
       "      <th>Name</th>\n",
       "      <th>Transported</th>\n",
       "    </tr>\n",
       "  </thead>\n",
       "  <tbody>\n",
       "    <tr>\n",
       "      <th>0</th>\n",
       "      <td>0001_01</td>\n",
       "      <td>Europa</td>\n",
       "      <td>False</td>\n",
       "      <td>B/0/P</td>\n",
       "      <td>TRAPPIST-1e</td>\n",
       "      <td>39.0</td>\n",
       "      <td>False</td>\n",
       "      <td>0.0</td>\n",
       "      <td>0.0</td>\n",
       "      <td>0.0</td>\n",
       "      <td>0.0</td>\n",
       "      <td>0.0</td>\n",
       "      <td>Maham Ofracculy</td>\n",
       "      <td>False</td>\n",
       "    </tr>\n",
       "    <tr>\n",
       "      <th>1</th>\n",
       "      <td>0002_01</td>\n",
       "      <td>Earth</td>\n",
       "      <td>False</td>\n",
       "      <td>F/0/S</td>\n",
       "      <td>TRAPPIST-1e</td>\n",
       "      <td>24.0</td>\n",
       "      <td>False</td>\n",
       "      <td>109.0</td>\n",
       "      <td>9.0</td>\n",
       "      <td>25.0</td>\n",
       "      <td>549.0</td>\n",
       "      <td>44.0</td>\n",
       "      <td>Juanna Vines</td>\n",
       "      <td>True</td>\n",
       "    </tr>\n",
       "    <tr>\n",
       "      <th>2</th>\n",
       "      <td>0003_01</td>\n",
       "      <td>Europa</td>\n",
       "      <td>False</td>\n",
       "      <td>A/0/S</td>\n",
       "      <td>TRAPPIST-1e</td>\n",
       "      <td>58.0</td>\n",
       "      <td>True</td>\n",
       "      <td>43.0</td>\n",
       "      <td>3576.0</td>\n",
       "      <td>0.0</td>\n",
       "      <td>6715.0</td>\n",
       "      <td>49.0</td>\n",
       "      <td>Altark Susent</td>\n",
       "      <td>False</td>\n",
       "    </tr>\n",
       "    <tr>\n",
       "      <th>3</th>\n",
       "      <td>0003_02</td>\n",
       "      <td>Europa</td>\n",
       "      <td>False</td>\n",
       "      <td>A/0/S</td>\n",
       "      <td>TRAPPIST-1e</td>\n",
       "      <td>33.0</td>\n",
       "      <td>False</td>\n",
       "      <td>0.0</td>\n",
       "      <td>1283.0</td>\n",
       "      <td>371.0</td>\n",
       "      <td>3329.0</td>\n",
       "      <td>193.0</td>\n",
       "      <td>Solam Susent</td>\n",
       "      <td>False</td>\n",
       "    </tr>\n",
       "    <tr>\n",
       "      <th>4</th>\n",
       "      <td>0004_01</td>\n",
       "      <td>Earth</td>\n",
       "      <td>False</td>\n",
       "      <td>F/1/S</td>\n",
       "      <td>TRAPPIST-1e</td>\n",
       "      <td>16.0</td>\n",
       "      <td>False</td>\n",
       "      <td>303.0</td>\n",
       "      <td>70.0</td>\n",
       "      <td>151.0</td>\n",
       "      <td>565.0</td>\n",
       "      <td>2.0</td>\n",
       "      <td>Willy Santantines</td>\n",
       "      <td>True</td>\n",
       "    </tr>\n",
       "  </tbody>\n",
       "</table>\n",
       "</div>"
      ],
      "text/plain": [
       "  PassengerId HomePlanet CryoSleep  Cabin  Destination   Age    VIP  \\\n",
       "0     0001_01     Europa     False  B/0/P  TRAPPIST-1e  39.0  False   \n",
       "1     0002_01      Earth     False  F/0/S  TRAPPIST-1e  24.0  False   \n",
       "2     0003_01     Europa     False  A/0/S  TRAPPIST-1e  58.0   True   \n",
       "3     0003_02     Europa     False  A/0/S  TRAPPIST-1e  33.0  False   \n",
       "4     0004_01      Earth     False  F/1/S  TRAPPIST-1e  16.0  False   \n",
       "\n",
       "   RoomService  FoodCourt  ShoppingMall     Spa  VRDeck               Name  \\\n",
       "0          0.0        0.0           0.0     0.0     0.0    Maham Ofracculy   \n",
       "1        109.0        9.0          25.0   549.0    44.0       Juanna Vines   \n",
       "2         43.0     3576.0           0.0  6715.0    49.0      Altark Susent   \n",
       "3          0.0     1283.0         371.0  3329.0   193.0       Solam Susent   \n",
       "4        303.0       70.0         151.0   565.0     2.0  Willy Santantines   \n",
       "\n",
       "   Transported  \n",
       "0        False  \n",
       "1         True  \n",
       "2        False  \n",
       "3        False  \n",
       "4         True  "
      ]
     },
     "execution_count": 5,
     "metadata": {},
     "output_type": "execute_result"
    }
   ],
   "source": [
    "train_set.head()"
   ]
  },
  {
   "cell_type": "markdown",
   "id": "fedb51e0",
   "metadata": {
    "papermill": {
     "duration": 0.010419,
     "end_time": "2022-08-22T14:48:41.950346",
     "exception": false,
     "start_time": "2022-08-22T14:48:41.939927",
     "status": "completed"
    },
    "tags": []
   },
   "source": [
    "Before diving more into the dataset, I will \n",
    "\n",
    "- create `Deck` and `Side` from `Cabin`\n",
    "- create `GroupSize` from `PassengerId`\n",
    "- remove `Name`, `PassengerId`, `Cabin`"
   ]
  },
  {
   "cell_type": "code",
   "execution_count": 6,
   "id": "b402b215",
   "metadata": {
    "execution": {
     "iopub.execute_input": "2022-08-22T14:48:41.972942Z",
     "iopub.status.busy": "2022-08-22T14:48:41.972036Z",
     "iopub.status.idle": "2022-08-22T14:48:42.056252Z",
     "shell.execute_reply": "2022-08-22T14:48:42.054926Z"
    },
    "papermill": {
     "duration": 0.09773,
     "end_time": "2022-08-22T14:48:42.058458",
     "exception": false,
     "start_time": "2022-08-22T14:48:41.960728",
     "status": "completed"
    },
    "tags": []
   },
   "outputs": [],
   "source": [
    "# create 'Deck' and 'Side' from 'Cabin'\n",
    "deck, side = [], []\n",
    "\n",
    "bool = train_set[\"Cabin\"].isnull()\n",
    "for i in range(len(train_set)):\n",
    "    cabin = train_set[\"Cabin\"][i]\n",
    "    if bool[i]:\n",
    "        deck.append(np.NaN)\n",
    "        side.append(np.NaN)\n",
    "    else:\n",
    "        comp = cabin.split('/')\n",
    "        deck.append(comp[0])\n",
    "        side.append(comp[2])\n",
    "        \n",
    "train_set[\"Deck\"] = deck\n",
    "train_set[\"Side\"] = side"
   ]
  },
  {
   "cell_type": "code",
   "execution_count": 7,
   "id": "88cbb7f9",
   "metadata": {
    "execution": {
     "iopub.execute_input": "2022-08-22T14:48:42.080691Z",
     "iopub.status.busy": "2022-08-22T14:48:42.080382Z",
     "iopub.status.idle": "2022-08-22T14:48:42.088077Z",
     "shell.execute_reply": "2022-08-22T14:48:42.086985Z"
    },
    "papermill": {
     "duration": 0.021361,
     "end_time": "2022-08-22T14:48:42.090049",
     "exception": false,
     "start_time": "2022-08-22T14:48:42.068688",
     "status": "completed"
    },
    "tags": []
   },
   "outputs": [],
   "source": [
    "# create 'GroupSize' from 'PassengerId'\n",
    "train_set['GroupSize'] = [pid.split('_')[1] for pid in train_set.PassengerId]"
   ]
  },
  {
   "cell_type": "code",
   "execution_count": 8,
   "id": "d3871f05",
   "metadata": {
    "execution": {
     "iopub.execute_input": "2022-08-22T14:48:42.112972Z",
     "iopub.status.busy": "2022-08-22T14:48:42.112620Z",
     "iopub.status.idle": "2022-08-22T14:48:42.121070Z",
     "shell.execute_reply": "2022-08-22T14:48:42.120143Z"
    },
    "papermill": {
     "duration": 0.022245,
     "end_time": "2022-08-22T14:48:42.123274",
     "exception": false,
     "start_time": "2022-08-22T14:48:42.101029",
     "status": "completed"
    },
    "tags": []
   },
   "outputs": [],
   "source": [
    "# Drop 'Name', 'PassengerId', 'Cabin'\n",
    "train_set = train_set.drop(['Name', 'PassengerId', 'Cabin'], axis=1)"
   ]
  },
  {
   "cell_type": "markdown",
   "id": "76225273",
   "metadata": {
    "papermill": {
     "duration": 0.010494,
     "end_time": "2022-08-22T14:48:42.143985",
     "exception": false,
     "start_time": "2022-08-22T14:48:42.133491",
     "status": "completed"
    },
    "tags": []
   },
   "source": [
    "# **Brief Look at train and test sets**"
   ]
  },
  {
   "cell_type": "code",
   "execution_count": 9,
   "id": "aa98b43a",
   "metadata": {
    "execution": {
     "iopub.execute_input": "2022-08-22T14:48:42.165068Z",
     "iopub.status.busy": "2022-08-22T14:48:42.164484Z",
     "iopub.status.idle": "2022-08-22T14:48:42.177148Z",
     "shell.execute_reply": "2022-08-22T14:48:42.175933Z"
    },
    "papermill": {
     "duration": 0.024809,
     "end_time": "2022-08-22T14:48:42.178679",
     "exception": false,
     "start_time": "2022-08-22T14:48:42.153870",
     "status": "completed"
    },
    "tags": []
   },
   "outputs": [
    {
     "name": "stdout",
     "output_type": "stream",
     "text": [
      "<class 'pandas.core.frame.DataFrame'>\n",
      "RangeIndex: 8693 entries, 0 to 8692\n",
      "Data columns (total 14 columns):\n",
      " #   Column        Non-Null Count  Dtype  \n",
      "---  ------        --------------  -----  \n",
      " 0   HomePlanet    8492 non-null   object \n",
      " 1   CryoSleep     8476 non-null   object \n",
      " 2   Destination   8511 non-null   object \n",
      " 3   Age           8514 non-null   float64\n",
      " 4   VIP           8490 non-null   object \n",
      " 5   RoomService   8512 non-null   float64\n",
      " 6   FoodCourt     8510 non-null   float64\n",
      " 7   ShoppingMall  8485 non-null   float64\n",
      " 8   Spa           8510 non-null   float64\n",
      " 9   VRDeck        8505 non-null   float64\n",
      " 10  Transported   8693 non-null   bool   \n",
      " 11  Deck          8494 non-null   object \n",
      " 12  Side          8494 non-null   object \n",
      " 13  GroupSize     8693 non-null   object \n",
      "dtypes: bool(1), float64(6), object(7)\n",
      "memory usage: 891.5+ KB\n"
     ]
    }
   ],
   "source": [
    "train_set.info()"
   ]
  },
  {
   "cell_type": "markdown",
   "id": "1dbfc8aa",
   "metadata": {
    "papermill": {
     "duration": 0.009442,
     "end_time": "2022-08-22T14:48:42.197856",
     "exception": false,
     "start_time": "2022-08-22T14:48:42.188414",
     "status": "completed"
    },
    "tags": []
   },
   "source": [
    "**Observations:**\n",
    "\n",
    "- Categorical variables:\n",
    "\n",
    "     `HomePlanet`,`CryoSleep`, `Destination`, `VIP`,  `Deck`, `Side`, `GroupSize`\n",
    "\n",
    "- Numerical variables:\n",
    "\n",
    "     `Age`, `RoomService`, `FoodCourt`, `ShoppingMall`, `Spa`, `VRDeck`"
   ]
  },
  {
   "cell_type": "code",
   "execution_count": 10,
   "id": "2c39162c",
   "metadata": {
    "execution": {
     "iopub.execute_input": "2022-08-22T14:48:42.220090Z",
     "iopub.status.busy": "2022-08-22T14:48:42.219351Z",
     "iopub.status.idle": "2022-08-22T14:48:42.226912Z",
     "shell.execute_reply": "2022-08-22T14:48:42.225964Z"
    },
    "papermill": {
     "duration": 0.021638,
     "end_time": "2022-08-22T14:48:42.229246",
     "exception": false,
     "start_time": "2022-08-22T14:48:42.207608",
     "status": "completed"
    },
    "tags": []
   },
   "outputs": [],
   "source": [
    "cat_features = ['HomePlanet', 'CryoSleep', 'Destination', 'VIP', 'Deck', 'Side', 'GroupSize']\n",
    "num_features = ['Age', 'RoomService', 'FoodCourt', 'ShoppingMall', 'Spa', 'VRDeck']"
   ]
  },
  {
   "cell_type": "code",
   "execution_count": 11,
   "id": "b776b751",
   "metadata": {
    "execution": {
     "iopub.execute_input": "2022-08-22T14:48:42.251965Z",
     "iopub.status.busy": "2022-08-22T14:48:42.251607Z",
     "iopub.status.idle": "2022-08-22T14:48:42.280985Z",
     "shell.execute_reply": "2022-08-22T14:48:42.280371Z"
    },
    "papermill": {
     "duration": 0.043863,
     "end_time": "2022-08-22T14:48:42.283515",
     "exception": false,
     "start_time": "2022-08-22T14:48:42.239652",
     "status": "completed"
    },
    "tags": []
   },
   "outputs": [
    {
     "data": {
      "text/html": [
       "<div>\n",
       "<style scoped>\n",
       "    .dataframe tbody tr th:only-of-type {\n",
       "        vertical-align: middle;\n",
       "    }\n",
       "\n",
       "    .dataframe tbody tr th {\n",
       "        vertical-align: top;\n",
       "    }\n",
       "\n",
       "    .dataframe thead th {\n",
       "        text-align: right;\n",
       "    }\n",
       "</style>\n",
       "<table border=\"1\" class=\"dataframe\">\n",
       "  <thead>\n",
       "    <tr style=\"text-align: right;\">\n",
       "      <th></th>\n",
       "      <th>Age</th>\n",
       "      <th>RoomService</th>\n",
       "      <th>FoodCourt</th>\n",
       "      <th>ShoppingMall</th>\n",
       "      <th>Spa</th>\n",
       "      <th>VRDeck</th>\n",
       "    </tr>\n",
       "  </thead>\n",
       "  <tbody>\n",
       "    <tr>\n",
       "      <th>count</th>\n",
       "      <td>8514.000000</td>\n",
       "      <td>8512.000000</td>\n",
       "      <td>8510.000000</td>\n",
       "      <td>8485.000000</td>\n",
       "      <td>8510.000000</td>\n",
       "      <td>8505.000000</td>\n",
       "    </tr>\n",
       "    <tr>\n",
       "      <th>mean</th>\n",
       "      <td>28.827930</td>\n",
       "      <td>224.687617</td>\n",
       "      <td>458.077203</td>\n",
       "      <td>173.729169</td>\n",
       "      <td>311.138778</td>\n",
       "      <td>304.854791</td>\n",
       "    </tr>\n",
       "    <tr>\n",
       "      <th>std</th>\n",
       "      <td>14.489021</td>\n",
       "      <td>666.717663</td>\n",
       "      <td>1611.489240</td>\n",
       "      <td>604.696458</td>\n",
       "      <td>1136.705535</td>\n",
       "      <td>1145.717189</td>\n",
       "    </tr>\n",
       "    <tr>\n",
       "      <th>min</th>\n",
       "      <td>0.000000</td>\n",
       "      <td>0.000000</td>\n",
       "      <td>0.000000</td>\n",
       "      <td>0.000000</td>\n",
       "      <td>0.000000</td>\n",
       "      <td>0.000000</td>\n",
       "    </tr>\n",
       "    <tr>\n",
       "      <th>25%</th>\n",
       "      <td>19.000000</td>\n",
       "      <td>0.000000</td>\n",
       "      <td>0.000000</td>\n",
       "      <td>0.000000</td>\n",
       "      <td>0.000000</td>\n",
       "      <td>0.000000</td>\n",
       "    </tr>\n",
       "    <tr>\n",
       "      <th>50%</th>\n",
       "      <td>27.000000</td>\n",
       "      <td>0.000000</td>\n",
       "      <td>0.000000</td>\n",
       "      <td>0.000000</td>\n",
       "      <td>0.000000</td>\n",
       "      <td>0.000000</td>\n",
       "    </tr>\n",
       "    <tr>\n",
       "      <th>75%</th>\n",
       "      <td>38.000000</td>\n",
       "      <td>47.000000</td>\n",
       "      <td>76.000000</td>\n",
       "      <td>27.000000</td>\n",
       "      <td>59.000000</td>\n",
       "      <td>46.000000</td>\n",
       "    </tr>\n",
       "    <tr>\n",
       "      <th>max</th>\n",
       "      <td>79.000000</td>\n",
       "      <td>14327.000000</td>\n",
       "      <td>29813.000000</td>\n",
       "      <td>23492.000000</td>\n",
       "      <td>22408.000000</td>\n",
       "      <td>24133.000000</td>\n",
       "    </tr>\n",
       "  </tbody>\n",
       "</table>\n",
       "</div>"
      ],
      "text/plain": [
       "               Age   RoomService     FoodCourt  ShoppingMall           Spa  \\\n",
       "count  8514.000000   8512.000000   8510.000000   8485.000000   8510.000000   \n",
       "mean     28.827930    224.687617    458.077203    173.729169    311.138778   \n",
       "std      14.489021    666.717663   1611.489240    604.696458   1136.705535   \n",
       "min       0.000000      0.000000      0.000000      0.000000      0.000000   \n",
       "25%      19.000000      0.000000      0.000000      0.000000      0.000000   \n",
       "50%      27.000000      0.000000      0.000000      0.000000      0.000000   \n",
       "75%      38.000000     47.000000     76.000000     27.000000     59.000000   \n",
       "max      79.000000  14327.000000  29813.000000  23492.000000  22408.000000   \n",
       "\n",
       "             VRDeck  \n",
       "count   8505.000000  \n",
       "mean     304.854791  \n",
       "std     1145.717189  \n",
       "min        0.000000  \n",
       "25%        0.000000  \n",
       "50%        0.000000  \n",
       "75%       46.000000  \n",
       "max    24133.000000  "
      ]
     },
     "execution_count": 11,
     "metadata": {},
     "output_type": "execute_result"
    }
   ],
   "source": [
    "train_set.describe()"
   ]
  },
  {
   "cell_type": "markdown",
   "id": "d41382fa",
   "metadata": {
    "papermill": {
     "duration": 0.010014,
     "end_time": "2022-08-22T14:48:42.304261",
     "exception": false,
     "start_time": "2022-08-22T14:48:42.294247",
     "status": "completed"
    },
    "tags": []
   },
   "source": [
    "# **Visualization and Exploration**\n",
    "\n",
    "1. Histogram for labels \n",
    "\n",
    "2. Histogram for each categorical variable\n",
    "\n",
    "3. Scatterplot for each numerical variable\n",
    "\n",
    "4. Correlation for each numerical variable"
   ]
  },
  {
   "cell_type": "code",
   "execution_count": 12,
   "id": "592c11d1",
   "metadata": {
    "execution": {
     "iopub.execute_input": "2022-08-22T14:48:42.327291Z",
     "iopub.status.busy": "2022-08-22T14:48:42.326823Z",
     "iopub.status.idle": "2022-08-22T14:48:43.640124Z",
     "shell.execute_reply": "2022-08-22T14:48:43.639018Z"
    },
    "papermill": {
     "duration": 1.327213,
     "end_time": "2022-08-22T14:48:43.642031",
     "exception": false,
     "start_time": "2022-08-22T14:48:42.314818",
     "status": "completed"
    },
    "tags": []
   },
   "outputs": [
    {
     "data": {
      "text/plain": [
       "<seaborn.axisgrid.FacetGrid at 0x7f8675c7c810>"
      ]
     },
     "execution_count": 12,
     "metadata": {},
     "output_type": "execute_result"
    },
    {
     "data": {
      "image/png": "[encoded data removed]",
      "text/plain": [
       "<Figure size 360x360 with 1 Axes>"
      ]
     },
     "metadata": {
      "needs_background": "light"
     },
     "output_type": "display_data"
    }
   ],
   "source": [
    "# Histogram for labels\n",
    "import matplotlib as mpl\n",
    "import matplotlib.pyplot as plt\n",
    "import seaborn as sns\n",
    "\n",
    "\n",
    "Transported_int = np.zeros([len(train_set)])\n",
    "Transported_int[train_set['Transported'] == True] = 1\n",
    "sns.displot(Transported_int)"
   ]
  },
  {
   "cell_type": "markdown",
   "id": "fd9aeb3a",
   "metadata": {
    "papermill": {
     "duration": 0.010937,
     "end_time": "2022-08-22T14:48:43.663794",
     "exception": false,
     "start_time": "2022-08-22T14:48:43.652857",
     "status": "completed"
    },
    "tags": []
   },
   "source": [
    "**Observation:**\n",
    "\n",
    "Same size for each label."
   ]
  },
  {
   "cell_type": "code",
   "execution_count": 13,
   "id": "1003f7a8",
   "metadata": {
    "execution": {
     "iopub.execute_input": "2022-08-22T14:48:43.686521Z",
     "iopub.status.busy": "2022-08-22T14:48:43.686203Z",
     "iopub.status.idle": "2022-08-22T14:48:44.833434Z",
     "shell.execute_reply": "2022-08-22T14:48:44.832363Z"
    },
    "papermill": {
     "duration": 1.161071,
     "end_time": "2022-08-22T14:48:44.835571",
     "exception": false,
     "start_time": "2022-08-22T14:48:43.674500",
     "status": "completed"
    },
    "tags": []
   },
   "outputs": [
    {
     "data": {
      "image/png": "[encoded data removed]",
      "text/plain": [
       "<Figure size 2880x1440 with 8 Axes>"
      ]
     },
     "metadata": {
      "needs_background": "light"
     },
     "output_type": "display_data"
    }
   ],
   "source": [
    "# Histogram for each categorical variable\n",
    "fig, axes = plt.subplots(4, 2, figsize=(40,20))\n",
    "ax = [axes[0,0], axes[0,1], axes[1,0], axes[1,1], axes[2,0], axes[2,1], axes[3,0]]\n",
    "\n",
    "for i in range(len(cat_features)):\n",
    "    feature = cat_features[i]\n",
    "    sns.countplot(x=feature, hue='Transported', data=train_set, ax=ax[i])"
   ]
  },
  {
   "cell_type": "code",
   "execution_count": 14,
   "id": "53f4907c",
   "metadata": {
    "execution": {
     "iopub.execute_input": "2022-08-22T14:48:44.860718Z",
     "iopub.status.busy": "2022-08-22T14:48:44.860415Z",
     "iopub.status.idle": "2022-08-22T14:48:44.885868Z",
     "shell.execute_reply": "2022-08-22T14:48:44.883925Z"
    },
    "papermill": {
     "duration": 0.040644,
     "end_time": "2022-08-22T14:48:44.887778",
     "exception": false,
     "start_time": "2022-08-22T14:48:44.847134",
     "status": "completed"
    },
    "tags": []
   },
   "outputs": [
    {
     "name": "stdout",
     "output_type": "stream",
     "text": [
      "HomePlanet  Transported\n",
      "Earth       False          0.576054\n",
      "            True           0.423946\n",
      "Europa      True           0.658846\n",
      "            False          0.341154\n",
      "Mars        True           0.523024\n",
      "            False          0.476976\n",
      "Name: Transported, dtype: float64\n",
      "CryoSleep  Transported\n",
      "False      False          0.671079\n",
      "           True           0.328921\n",
      "True       True           0.817583\n",
      "           False          0.182417\n",
      "Name: Transported, dtype: float64\n",
      "Destination    Transported\n",
      "55 Cancri e    True           0.610000\n",
      "               False          0.390000\n",
      "PSO J318.5-22  True           0.503769\n",
      "               False          0.496231\n",
      "TRAPPIST-1e    False          0.528825\n",
      "               True           0.471175\n",
      "Name: Transported, dtype: float64\n",
      "VIP    Transported\n",
      "False  True           0.506332\n",
      "       False          0.493668\n",
      "True   False          0.618090\n",
      "       True           0.381910\n",
      "Name: Transported, dtype: float64\n",
      "Deck  Transported\n",
      "A     False          0.503906\n",
      "      True           0.496094\n",
      "B     True           0.734275\n",
      "      False          0.265725\n",
      "C     True           0.680054\n",
      "      False          0.319946\n",
      "D     False          0.566946\n",
      "      True           0.433054\n",
      "E     False          0.642694\n",
      "      True           0.357306\n",
      "F     False          0.560129\n",
      "      True           0.439871\n",
      "G     True           0.516217\n",
      "      False          0.483783\n",
      "T     False          0.800000\n",
      "      True           0.200000\n",
      "Name: Transported, dtype: float64\n",
      "Side  Transported\n",
      "P     False          0.548740\n",
      "      True           0.451260\n",
      "S     True           0.555037\n",
      "      False          0.444963\n",
      "Name: Transported, dtype: float64\n",
      "GroupSize  Transported\n",
      "01         False          0.524047\n",
      "           True           0.475953\n",
      "02         True           0.558782\n",
      "           False          0.441218\n",
      "03         True           0.618214\n",
      "           False          0.381786\n",
      "04         True           0.593074\n",
      "           False          0.406926\n",
      "05         True           0.546875\n",
      "           False          0.453125\n",
      "06         True           0.546667\n",
      "           False          0.453333\n",
      "07         False          0.500000\n",
      "           True           0.500000\n",
      "08         False          0.538462\n",
      "           True           0.461538\n",
      "Name: Transported, dtype: float64\n"
     ]
    }
   ],
   "source": [
    "for feature in cat_features:\n",
    "    s = train_set.groupby([feature])['Transported'].value_counts(normalize=True)\n",
    "    print(s)"
   ]
  },
  {
   "cell_type": "code",
   "execution_count": 15,
   "id": "3d30e048",
   "metadata": {
    "execution": {
     "iopub.execute_input": "2022-08-22T14:48:44.913460Z",
     "iopub.status.busy": "2022-08-22T14:48:44.913127Z",
     "iopub.status.idle": "2022-08-22T14:48:46.878405Z",
     "shell.execute_reply": "2022-08-22T14:48:46.877287Z"
    },
    "papermill": {
     "duration": 1.981163,
     "end_time": "2022-08-22T14:48:46.880766",
     "exception": false,
     "start_time": "2022-08-22T14:48:44.899603",
     "status": "completed"
    },
    "tags": []
   },
   "outputs": [
    {
     "data": {
      "image/png": "[encoded data removed]",
      "text/plain": [
       "<Figure size 1440x720 with 6 Axes>"
      ]
     },
     "metadata": {
      "needs_background": "light"
     },
     "output_type": "display_data"
    }
   ],
   "source": [
    "# Scatterplot for each numerical variable\n",
    "\n",
    "fig, axes = plt.subplots(3, 2, figsize=(20,10))\n",
    "ax = [axes[0,0], axes[0,1], axes[1,0], axes[1,1], axes[2,0], axes[2,1]]\n",
    "\n",
    "for i in range(len(num_features)):\n",
    "    feature = num_features[i]\n",
    "    sns.set(style=\"darkgrid\")\n",
    "    sns.histplot(data=train_set, x=feature, hue=\"Transported\", bins=50, multiple='stack',\n",
    "                ax=ax[i])"
   ]
  },
  {
   "cell_type": "code",
   "execution_count": 16,
   "id": "26541b7f",
   "metadata": {
    "execution": {
     "iopub.execute_input": "2022-08-22T14:48:46.909429Z",
     "iopub.status.busy": "2022-08-22T14:48:46.909043Z",
     "iopub.status.idle": "2022-08-22T14:48:46.922809Z",
     "shell.execute_reply": "2022-08-22T14:48:46.921837Z"
    },
    "papermill": {
     "duration": 0.030709,
     "end_time": "2022-08-22T14:48:46.924821",
     "exception": false,
     "start_time": "2022-08-22T14:48:46.894112",
     "status": "completed"
    },
    "tags": []
   },
   "outputs": [
    {
     "data": {
      "text/html": [
       "<div>\n",
       "<style scoped>\n",
       "    .dataframe tbody tr th:only-of-type {\n",
       "        vertical-align: middle;\n",
       "    }\n",
       "\n",
       "    .dataframe tbody tr th {\n",
       "        vertical-align: top;\n",
       "    }\n",
       "\n",
       "    .dataframe thead th {\n",
       "        text-align: right;\n",
       "    }\n",
       "</style>\n",
       "<table border=\"1\" class=\"dataframe\">\n",
       "  <thead>\n",
       "    <tr style=\"text-align: right;\">\n",
       "      <th></th>\n",
       "      <th>Age</th>\n",
       "      <th>RoomService</th>\n",
       "      <th>FoodCourt</th>\n",
       "      <th>ShoppingMall</th>\n",
       "      <th>Spa</th>\n",
       "      <th>VRDeck</th>\n",
       "      <th>Transported</th>\n",
       "    </tr>\n",
       "  </thead>\n",
       "  <tbody>\n",
       "    <tr>\n",
       "      <th>Age</th>\n",
       "      <td>1.000000</td>\n",
       "      <td>0.068723</td>\n",
       "      <td>0.130421</td>\n",
       "      <td>0.033133</td>\n",
       "      <td>0.123970</td>\n",
       "      <td>0.101007</td>\n",
       "      <td>-0.075026</td>\n",
       "    </tr>\n",
       "    <tr>\n",
       "      <th>RoomService</th>\n",
       "      <td>0.068723</td>\n",
       "      <td>1.000000</td>\n",
       "      <td>-0.015889</td>\n",
       "      <td>0.054480</td>\n",
       "      <td>0.010080</td>\n",
       "      <td>-0.019581</td>\n",
       "      <td>-0.244611</td>\n",
       "    </tr>\n",
       "    <tr>\n",
       "      <th>FoodCourt</th>\n",
       "      <td>0.130421</td>\n",
       "      <td>-0.015889</td>\n",
       "      <td>1.000000</td>\n",
       "      <td>-0.014228</td>\n",
       "      <td>0.221891</td>\n",
       "      <td>0.227995</td>\n",
       "      <td>0.046566</td>\n",
       "    </tr>\n",
       "    <tr>\n",
       "      <th>ShoppingMall</th>\n",
       "      <td>0.033133</td>\n",
       "      <td>0.054480</td>\n",
       "      <td>-0.014228</td>\n",
       "      <td>1.000000</td>\n",
       "      <td>0.013879</td>\n",
       "      <td>-0.007322</td>\n",
       "      <td>0.010141</td>\n",
       "    </tr>\n",
       "    <tr>\n",
       "      <th>Spa</th>\n",
       "      <td>0.123970</td>\n",
       "      <td>0.010080</td>\n",
       "      <td>0.221891</td>\n",
       "      <td>0.013879</td>\n",
       "      <td>1.000000</td>\n",
       "      <td>0.153821</td>\n",
       "      <td>-0.221131</td>\n",
       "    </tr>\n",
       "    <tr>\n",
       "      <th>VRDeck</th>\n",
       "      <td>0.101007</td>\n",
       "      <td>-0.019581</td>\n",
       "      <td>0.227995</td>\n",
       "      <td>-0.007322</td>\n",
       "      <td>0.153821</td>\n",
       "      <td>1.000000</td>\n",
       "      <td>-0.207075</td>\n",
       "    </tr>\n",
       "    <tr>\n",
       "      <th>Transported</th>\n",
       "      <td>-0.075026</td>\n",
       "      <td>-0.244611</td>\n",
       "      <td>0.046566</td>\n",
       "      <td>0.010141</td>\n",
       "      <td>-0.221131</td>\n",
       "      <td>-0.207075</td>\n",
       "      <td>1.000000</td>\n",
       "    </tr>\n",
       "  </tbody>\n",
       "</table>\n",
       "</div>"
      ],
      "text/plain": [
       "                   Age  RoomService  FoodCourt  ShoppingMall       Spa  \\\n",
       "Age           1.000000     0.068723   0.130421      0.033133  0.123970   \n",
       "RoomService   0.068723     1.000000  -0.015889      0.054480  0.010080   \n",
       "FoodCourt     0.130421    -0.015889   1.000000     -0.014228  0.221891   \n",
       "ShoppingMall  0.033133     0.054480  -0.014228      1.000000  0.013879   \n",
       "Spa           0.123970     0.010080   0.221891      0.013879  1.000000   \n",
       "VRDeck        0.101007    -0.019581   0.227995     -0.007322  0.153821   \n",
       "Transported  -0.075026    -0.244611   0.046566      0.010141 -0.221131   \n",
       "\n",
       "                VRDeck  Transported  \n",
       "Age           0.101007    -0.075026  \n",
       "RoomService  -0.019581    -0.244611  \n",
       "FoodCourt     0.227995     0.046566  \n",
       "ShoppingMall -0.007322     0.010141  \n",
       "Spa           0.153821    -0.221131  \n",
       "VRDeck        1.000000    -0.207075  \n",
       "Transported  -0.207075     1.000000  "
      ]
     },
     "execution_count": 16,
     "metadata": {},
     "output_type": "execute_result"
    }
   ],
   "source": [
    "# correlation for numerical variables\n",
    "corr_matrix = train_set.corr()\n",
    "corr_matrix"
   ]
  },
  {
   "cell_type": "code",
   "execution_count": 17,
   "id": "1dfb736f",
   "metadata": {
    "execution": {
     "iopub.execute_input": "2022-08-22T14:48:46.953207Z",
     "iopub.status.busy": "2022-08-22T14:48:46.952731Z",
     "iopub.status.idle": "2022-08-22T14:48:46.960115Z",
     "shell.execute_reply": "2022-08-22T14:48:46.959104Z"
    },
    "papermill": {
     "duration": 0.024591,
     "end_time": "2022-08-22T14:48:46.962001",
     "exception": false,
     "start_time": "2022-08-22T14:48:46.937410",
     "status": "completed"
    },
    "tags": []
   },
   "outputs": [
    {
     "data": {
      "text/plain": [
       "Age            -0.075026\n",
       "RoomService    -0.244611\n",
       "FoodCourt       0.046566\n",
       "ShoppingMall    0.010141\n",
       "Spa            -0.221131\n",
       "VRDeck         -0.207075\n",
       "Transported     1.000000\n",
       "Name: Transported, dtype: float64"
      ]
     },
     "execution_count": 17,
     "metadata": {},
     "output_type": "execute_result"
    }
   ],
   "source": [
    "corr_matrix[\"Transported\"]"
   ]
  },
  {
   "cell_type": "markdown",
   "id": "2b7de52e",
   "metadata": {
    "papermill": {
     "duration": 0.012975,
     "end_time": "2022-08-22T14:48:46.988484",
     "exception": false,
     "start_time": "2022-08-22T14:48:46.975509",
     "status": "completed"
    },
    "tags": []
   },
   "source": [
    "**Observations:**\n",
    "\n",
    "- `RoomService`, `Spa`, `VRDeck` are correlated with `Transported`.\n",
    "-  Notice the correlation between `VRDeck`, `FoodCourt`, `Spa`."
   ]
  },
  {
   "cell_type": "markdown",
   "id": "8df78378",
   "metadata": {
    "papermill": {
     "duration": 0.01262,
     "end_time": "2022-08-22T14:48:47.013349",
     "exception": false,
     "start_time": "2022-08-22T14:48:47.000729",
     "status": "completed"
    },
    "tags": []
   },
   "source": [
    "# **Split the train_set into a smaller train_set and a test set**\n",
    "\n",
    "Split the set into 2 groups such that both have same distributions of 'Transported'."
   ]
  },
  {
   "cell_type": "code",
   "execution_count": 18,
   "id": "67eb7b56",
   "metadata": {
    "execution": {
     "iopub.execute_input": "2022-08-22T14:48:47.041041Z",
     "iopub.status.busy": "2022-08-22T14:48:47.040410Z",
     "iopub.status.idle": "2022-08-22T14:48:47.276862Z",
     "shell.execute_reply": "2022-08-22T14:48:47.275547Z"
    },
    "papermill": {
     "duration": 0.253305,
     "end_time": "2022-08-22T14:48:47.279081",
     "exception": false,
     "start_time": "2022-08-22T14:48:47.025776",
     "status": "completed"
    },
    "tags": []
   },
   "outputs": [],
   "source": [
    "# Split the train_set into a smaller train_set and a test set\n",
    "from sklearn.model_selection import StratifiedShuffleSplit\n",
    "\n",
    "split = StratifiedShuffleSplit(n_splits=1, test_size=0.2, random_state=42)\n",
    "for train_index, val_index in split.split(train_set, train_set['Transported']):\n",
    "    strain_set = train_set.loc[train_index]\n",
    "    val_set = train_set.loc[val_index]\n",
    "\n",
    "strain_y = strain_set['Transported']\n",
    "strain_x = strain_set.drop('Transported', axis=1)\n",
    "\n",
    "val_y = val_set['Transported']\n",
    "val_x = val_set.drop('Transported', axis=1)"
   ]
  },
  {
   "cell_type": "markdown",
   "id": "260ff2cd",
   "metadata": {
    "papermill": {
     "duration": 0.012846,
     "end_time": "2022-08-22T14:48:47.305108",
     "exception": false,
     "start_time": "2022-08-22T14:48:47.292262",
     "status": "completed"
    },
    "tags": []
   },
   "source": [
    "# **Pipeline: Data cleaning + Addition of new features**"
   ]
  },
  {
   "cell_type": "markdown",
   "id": "f27c78ed",
   "metadata": {
    "papermill": {
     "duration": 0.01329,
     "end_time": "2022-08-22T14:48:47.331278",
     "exception": false,
     "start_time": "2022-08-22T14:48:47.317988",
     "status": "completed"
    },
    "tags": []
   },
   "source": [
    "Implement the following tasks:\n",
    "\n",
    "1.  categorical features: \n",
    "        \n",
    "       - group `GroupSize` into 5 groups \n",
    "       \n",
    "       - group `Age` into 6 groups\n",
    "       \n",
    "       - replace missing values with respective most frequent categories\n",
    "        \n",
    "       - apply one-hot encoding for categorical features\n",
    "2.  numerical features:\n",
    "\n",
    "       - replace missing values with respective medians\n",
    "      \n",
    "       - apply standardization\n",
    "    "
   ]
  },
  {
   "cell_type": "markdown",
   "id": "330ae092",
   "metadata": {
    "papermill": {
     "duration": 0.01246,
     "end_time": "2022-08-22T14:48:47.357420",
     "exception": false,
     "start_time": "2022-08-22T14:48:47.344960",
     "status": "completed"
    },
    "tags": []
   },
   "source": [
    "**Note: the following code requires simplication!**"
   ]
  },
  {
   "cell_type": "code",
   "execution_count": 19,
   "id": "2a96794a",
   "metadata": {
    "execution": {
     "iopub.execute_input": "2022-08-22T14:48:47.386071Z",
     "iopub.status.busy": "2022-08-22T14:48:47.385475Z",
     "iopub.status.idle": "2022-08-22T14:48:47.623124Z",
     "shell.execute_reply": "2022-08-22T14:48:47.621674Z"
    },
    "papermill": {
     "duration": 0.25498,
     "end_time": "2022-08-22T14:48:47.625559",
     "exception": false,
     "start_time": "2022-08-22T14:48:47.370579",
     "status": "completed"
    },
    "tags": []
   },
   "outputs": [],
   "source": [
    "from sklearn.preprocessing import StandardScaler\n",
    "from sklearn.preprocessing import OneHotEncoder\n",
    "from sklearn.impute import SimpleImputer\n",
    "from sklearn.pipeline import Pipeline\n",
    "from sklearn.compose import ColumnTransformer\n",
    "from sklearn.base import BaseEstimator, TransformerMixin\n",
    "\n",
    "cat_features = ['HomePlanet', 'CryoSleep', 'Destination', 'Age', 'VIP', 'Deck', 'Side', 'GroupSize']\n",
    "num_features = ['RoomService', 'FoodCourt', 'ShoppingMall', 'Spa', 'VRDeck']\n",
    "\n",
    "class GroupSizeSplits(BaseEstimator, TransformerMixin):\n",
    "    def fit(self, X, y=None):\n",
    "        return self\n",
    "    def transform(self, X):\n",
    "        groupsize = np.array(X[\"GroupSize\"], dtype='int').copy()\n",
    "        labels = np.zeros(len(X), dtype='object')\n",
    "        for i in range(len(X)):\n",
    "            if (groupsize[i]>=2 and groupsize[i]<5):\n",
    "                labels[i]=1\n",
    "            elif (groupsize[i]>=5 and groupsize[i]<7):\n",
    "                labels[i]=2\n",
    "            elif (groupsize[i]==7):\n",
    "                labels[i]=3\n",
    "            elif (groupsize[i]>=8):\n",
    "                labels[i]=4\n",
    "        X_new = X.copy()\n",
    "        X_new[\"GroupSize\"]=labels\n",
    "        return X_new\n",
    "\n",
    "class AgeSplits(BaseEstimator, TransformerMixin):\n",
    "    def fit(self, X, y=None):\n",
    "        return self\n",
    "    def transform(self, X):\n",
    "        age = np.array(X[\"Age\"])\n",
    "        labels = np.zeros(len(X), dtype='object')\n",
    "        for i in range(len(X)):\n",
    "            if age[i] >18 and age[i] <=28:\n",
    "                labels[i]=1\n",
    "            elif age[i] >28 and age[i] <=38:\n",
    "                labels[i]=2\n",
    "            elif age[i] >38 and age[i] <=48:\n",
    "                labels[i]=3\n",
    "            elif age[i] >48 and age[i] <=58:\n",
    "                labels[i]=4\n",
    "            elif age[i] >58:\n",
    "                labels[i]=5\n",
    "        X_new = X.copy()\n",
    "        X_new[\"Age\"]=labels\n",
    "        return X_new\n",
    "\n",
    "class ImputerOneHot_df(BaseEstimator, TransformerMixin):\n",
    "    #column_names = []\n",
    "    def fit(self, X, y=None):\n",
    "        return self\n",
    "    def transform(self, X):\n",
    "        imputer = SimpleImputer(strategy=\"most_frequent\")\n",
    "        onehot_encoder = OneHotEncoder()\n",
    "        X_impute = imputer.fit_transform(X)\n",
    "        X_onehot = onehot_encoder.fit_transform(X_impute).toarray()\n",
    "        onehot_cats = onehot_encoder.categories_\n",
    "        cat_features = X.columns\n",
    "        self.column_names = []\n",
    "        for i in range(len(cat_features)):\n",
    "            name = cat_features[i]\n",
    "            cats = onehot_cats[i]\n",
    "            for cat in cats:\n",
    "                full_name = f'{name}:{cat}'\n",
    "                self.column_names.append(full_name) \n",
    "        X_new = pd.DataFrame(X_onehot, columns=self.column_names)\n",
    "        return X_new    \n",
    "\n",
    "class NumTransformer(BaseEstimator, TransformerMixin):\n",
    "    #column_names = []\n",
    "    def fit(self, X, y=None):\n",
    "        return self\n",
    "    def transform(self, X):\n",
    "        imputer = SimpleImputer(strategy=\"median\")\n",
    "        std_scaler = StandardScaler()\n",
    "        X_impute = imputer.fit_transform(X)\n",
    "        X_scaled = std_scaler.fit_transform(X_impute)\n",
    "        self.column_names = list(X.columns)\n",
    "        X_new = pd.DataFrame(X_scaled, columns=X.columns)\n",
    "        return X_new\n",
    "    \n",
    "class TotalTransformer(BaseEstimator, TransformerMixin):\n",
    "    def __init__(self, num_features, cat_features):\n",
    "        self.num_features = num_features\n",
    "        self.cat_features = cat_features\n",
    "    def fit(self, X, y=None):\n",
    "        return self\n",
    "    def transform(self, X):\n",
    "        groupsize_encoder = GroupSizeSplits()\n",
    "        age_encoder = AgeSplits()        \n",
    "        imputeronehot_encoder = ImputerOneHot_df()\n",
    "        num_transform = NumTransformer()\n",
    "        \n",
    "        cat_pipeline = Pipeline([\n",
    "            ('groupsize_encoder', groupsize_encoder),\n",
    "            ('age_encoder', age_encoder),\n",
    "            ('imputeronehot_encoder', imputeronehot_encoder),\n",
    "        ])\n",
    "        X_cat_transform = cat_pipeline.fit_transform(X[self.cat_features])\n",
    "        X_num_transform = num_transform.fit_transform(X[self.num_features])\n",
    "        X_new = pd.concat([X_num_transform, X_cat_transform], axis=1)\n",
    "        self.column_names = X_new.columns\n",
    "        return X_new\n",
    "\n",
    "\n",
    "transformer = TotalTransformer(num_features, cat_features)\n",
    "strain_prepared = transformer.fit_transform(strain_x)\n",
    "val_prepared = transformer.transform(val_x)"
   ]
  },
  {
   "cell_type": "markdown",
   "id": "010743b8",
   "metadata": {
    "papermill": {
     "duration": 0.013678,
     "end_time": "2022-08-22T14:48:47.651917",
     "exception": false,
     "start_time": "2022-08-22T14:48:47.638239",
     "status": "completed"
    },
    "tags": []
   },
   "source": [
    "# **Feature Combination / Addition of New Feature(s)**\n",
    "\n",
    "1. Create `AmountBilled`\n",
    "\n",
    "2. Create boolean features for `RoomService`, `FoodCourt`, `ShoppingMall`, `Spa`, `VRDeck`  (Excluded)\n"
   ]
  },
  {
   "cell_type": "code",
   "execution_count": 20,
   "id": "60f3e3fe",
   "metadata": {
    "execution": {
     "iopub.execute_input": "2022-08-22T14:48:47.678008Z",
     "iopub.status.busy": "2022-08-22T14:48:47.677607Z",
     "iopub.status.idle": "2022-08-22T14:48:47.688594Z",
     "shell.execute_reply": "2022-08-22T14:48:47.687566Z"
    },
    "papermill": {
     "duration": 0.026259,
     "end_time": "2022-08-22T14:48:47.690509",
     "exception": false,
     "start_time": "2022-08-22T14:48:47.664250",
     "status": "completed"
    },
    "tags": []
   },
   "outputs": [],
   "source": [
    "# Create `AmountBilled` and remove `RoomService`, `FoodCourt`, `ShoppingMall`, `Spa`, `VRDeck` \n",
    "lux = ['RoomService', 'FoodCourt', 'ShoppingMall', 'Spa', 'VRDeck']\n",
    "strain_prepared['AmountBilled'] = strain_prepared[lux].sum(axis=1)\n",
    "\n",
    "strain_prepared = strain_prepared.drop(lux, axis=1)"
   ]
  },
  {
   "cell_type": "code",
   "execution_count": 21,
   "id": "2c932bdb",
   "metadata": {
    "execution": {
     "iopub.execute_input": "2022-08-22T14:48:47.718459Z",
     "iopub.status.busy": "2022-08-22T14:48:47.717611Z",
     "iopub.status.idle": "2022-08-22T14:48:47.726746Z",
     "shell.execute_reply": "2022-08-22T14:48:47.725441Z"
    },
    "papermill": {
     "duration": 0.025664,
     "end_time": "2022-08-22T14:48:47.729300",
     "exception": false,
     "start_time": "2022-08-22T14:48:47.703636",
     "status": "completed"
    },
    "tags": []
   },
   "outputs": [],
   "source": [
    "val_prepared['AmountBilled'] = val_prepared[lux].sum(axis=1)\n",
    "val_prepared = val_prepared.drop(lux, axis=1)"
   ]
  },
  {
   "cell_type": "markdown",
   "id": "ed6b1d80",
   "metadata": {
    "papermill": {
     "duration": 0.014278,
     "end_time": "2022-08-22T14:48:47.756758",
     "exception": false,
     "start_time": "2022-08-22T14:48:47.742480",
     "status": "completed"
    },
    "tags": []
   },
   "source": [
    "# **Data Visualization using Different Dimensionality Reduction Techniques**\n",
    "\n",
    "    - PCA\n",
    "    - RBF kernel PCA\n",
    "    - Locally linear embedding PCA"
   ]
  },
  {
   "cell_type": "code",
   "execution_count": 22,
   "id": "9738f35b",
   "metadata": {
    "execution": {
     "iopub.execute_input": "2022-08-22T14:48:47.790655Z",
     "iopub.status.busy": "2022-08-22T14:48:47.790207Z",
     "iopub.status.idle": "2022-08-22T14:48:47.947021Z",
     "shell.execute_reply": "2022-08-22T14:48:47.945993Z"
    },
    "papermill": {
     "duration": 0.178916,
     "end_time": "2022-08-22T14:48:47.949358",
     "exception": false,
     "start_time": "2022-08-22T14:48:47.770442",
     "status": "completed"
    },
    "tags": []
   },
   "outputs": [
    {
     "data": {
      "text/plain": [
       "array([0.62373188, 0.05708519])"
      ]
     },
     "execution_count": 22,
     "metadata": {},
     "output_type": "execute_result"
    }
   ],
   "source": [
    "from sklearn.decomposition import PCA\n",
    "\n",
    "pca = PCA(n_components=2)\n",
    "X2D = pca.fit_transform(strain_prepared)\n",
    "pca.explained_variance_ratio_"
   ]
  },
  {
   "cell_type": "code",
   "execution_count": 23,
   "id": "87b13218",
   "metadata": {
    "execution": {
     "iopub.execute_input": "2022-08-22T14:48:48.043634Z",
     "iopub.status.busy": "2022-08-22T14:48:48.043090Z",
     "iopub.status.idle": "2022-08-22T14:48:48.417143Z",
     "shell.execute_reply": "2022-08-22T14:48:48.416052Z"
    },
    "papermill": {
     "duration": 0.444161,
     "end_time": "2022-08-22T14:48:48.420737",
     "exception": false,
     "start_time": "2022-08-22T14:48:47.976576",
     "status": "completed"
    },
    "tags": []
   },
   "outputs": [
    {
     "data": {
      "text/plain": [
       "<matplotlib.collections.PathCollection at 0x7f8671d15310>"
      ]
     },
     "execution_count": 23,
     "metadata": {},
     "output_type": "execute_result"
    },
    {
     "data": {
      "image/png": "[encoded data removed]",
      "text/plain": [
       "<Figure size 432x288 with 1 Axes>"
      ]
     },
     "metadata": {},
     "output_type": "display_data"
    }
   ],
   "source": [
    "cols = np.repeat('blue',len(strain_y))\n",
    "cols[strain_y == True] = 'red'\n",
    "plt.scatter(x=X2D[:,0], y=X2D[:,1], color = cols)"
   ]
  },
  {
   "cell_type": "code",
   "execution_count": 24,
   "id": "43fac59a",
   "metadata": {
    "execution": {
     "iopub.execute_input": "2022-08-22T14:48:48.453840Z",
     "iopub.status.busy": "2022-08-22T14:48:48.453529Z",
     "iopub.status.idle": "2022-08-22T14:48:50.519515Z",
     "shell.execute_reply": "2022-08-22T14:48:50.518535Z"
    },
    "papermill": {
     "duration": 2.082926,
     "end_time": "2022-08-22T14:48:50.521237",
     "exception": false,
     "start_time": "2022-08-22T14:48:48.438311",
     "status": "completed"
    },
    "tags": []
   },
   "outputs": [
    {
     "data": {
      "text/plain": [
       "<matplotlib.collections.PathCollection at 0x7f8671c59490>"
      ]
     },
     "execution_count": 24,
     "metadata": {},
     "output_type": "execute_result"
    },
    {
     "data": {
      "image/png": "[encoded data removed]",
      "text/plain": [
       "<Figure size 432x288 with 1 Axes>"
      ]
     },
     "metadata": {},
     "output_type": "display_data"
    }
   ],
   "source": [
    "# Try kernel PCA\n",
    "from sklearn.decomposition import KernelPCA\n",
    "\n",
    "rbf_pca = KernelPCA(n_components=2, kernel=\"rbf\", gamma=0.1)\n",
    "X2D_kernel = rbf_pca.fit_transform(strain_prepared)\n",
    "plt.scatter(x=X2D_kernel[:,0], y=X2D_kernel[:,1], color = cols)"
   ]
  },
  {
   "cell_type": "code",
   "execution_count": 25,
   "id": "92deebee",
   "metadata": {
    "execution": {
     "iopub.execute_input": "2022-08-22T14:48:50.551002Z",
     "iopub.status.busy": "2022-08-22T14:48:50.550685Z",
     "iopub.status.idle": "2022-08-22T14:48:55.205905Z",
     "shell.execute_reply": "2022-08-22T14:48:55.204958Z"
    },
    "papermill": {
     "duration": 4.672161,
     "end_time": "2022-08-22T14:48:55.207673",
     "exception": false,
     "start_time": "2022-08-22T14:48:50.535512",
     "status": "completed"
    },
    "tags": []
   },
   "outputs": [
    {
     "data": {
      "text/plain": [
       "<matplotlib.collections.PathCollection at 0x7f86709b9f50>"
      ]
     },
     "execution_count": 25,
     "metadata": {},
     "output_type": "execute_result"
    },
    {
     "data": {
      "image/png": "[encoded data removed]",
      "text/plain": [
       "<Figure size 432x288 with 1 Axes>"
      ]
     },
     "metadata": {},
     "output_type": "display_data"
    }
   ],
   "source": [
    "# Try Locally Linear Embedding\n",
    "from sklearn.manifold import LocallyLinearEmbedding\n",
    "\n",
    "lle = LocallyLinearEmbedding(n_components=2, n_neighbors=10)\n",
    "X2D_lle = lle.fit_transform(strain_prepared)\n",
    "\n",
    "plt.scatter(x=X2D_lle[:,0], y=X2D_lle[:,1], color = cols)"
   ]
  },
  {
   "cell_type": "markdown",
   "id": "93096dd3",
   "metadata": {
    "papermill": {
     "duration": 0.014294,
     "end_time": "2022-08-22T14:48:55.236700",
     "exception": false,
     "start_time": "2022-08-22T14:48:55.222406",
     "status": "completed"
    },
    "tags": []
   },
   "source": [
    "# **Train the model**\n",
    "\n",
    "1. Logistic Regression\n",
    "2. Random Forest\n",
    "3. Neural Network"
   ]
  },
  {
   "cell_type": "code",
   "execution_count": 26,
   "id": "3637db94",
   "metadata": {
    "execution": {
     "iopub.execute_input": "2022-08-22T14:48:55.268246Z",
     "iopub.status.busy": "2022-08-22T14:48:55.267161Z",
     "iopub.status.idle": "2022-08-22T14:48:55.349137Z",
     "shell.execute_reply": "2022-08-22T14:48:55.348211Z"
    },
    "papermill": {
     "duration": 0.099842,
     "end_time": "2022-08-22T14:48:55.351267",
     "exception": false,
     "start_time": "2022-08-22T14:48:55.251425",
     "status": "completed"
    },
    "tags": []
   },
   "outputs": [],
   "source": [
    "# Logistic Regression\n",
    "from sklearn.linear_model import LogisticRegression\n",
    "\n",
    "log_reg = LogisticRegression(max_iter=300)\n",
    "log_reg.fit(strain_prepared, strain_y)\n",
    "y_pred = log_reg.predict(val_prepared)"
   ]
  },
  {
   "cell_type": "markdown",
   "id": "c28a9104",
   "metadata": {
    "papermill": {
     "duration": 0.020706,
     "end_time": "2022-08-22T14:48:55.393644",
     "exception": false,
     "start_time": "2022-08-22T14:48:55.372938",
     "status": "completed"
    },
    "tags": []
   },
   "source": [
    "Accuracy score is used because the distribution of 2 classes are almost equal."
   ]
  },
  {
   "cell_type": "code",
   "execution_count": 27,
   "id": "72f21b01",
   "metadata": {
    "execution": {
     "iopub.execute_input": "2022-08-22T14:48:55.435755Z",
     "iopub.status.busy": "2022-08-22T14:48:55.435396Z",
     "iopub.status.idle": "2022-08-22T14:48:55.442781Z",
     "shell.execute_reply": "2022-08-22T14:48:55.441923Z"
    },
    "papermill": {
     "duration": 0.03071,
     "end_time": "2022-08-22T14:48:55.444760",
     "exception": false,
     "start_time": "2022-08-22T14:48:55.414050",
     "status": "completed"
    },
    "tags": []
   },
   "outputs": [
    {
     "data": {
      "text/plain": [
       "0.7245543415756182"
      ]
     },
     "execution_count": 27,
     "metadata": {},
     "output_type": "execute_result"
    }
   ],
   "source": [
    "from sklearn.metrics import accuracy_score\n",
    "\n",
    "accuracy_score(val_y, y_pred)"
   ]
  },
  {
   "cell_type": "code",
   "execution_count": 28,
   "id": "89d9918d",
   "metadata": {
    "execution": {
     "iopub.execute_input": "2022-08-22T14:48:55.482823Z",
     "iopub.status.busy": "2022-08-22T14:48:55.482538Z",
     "iopub.status.idle": "2022-08-22T14:49:43.518912Z",
     "shell.execute_reply": "2022-08-22T14:49:43.517908Z"
    },
    "papermill": {
     "duration": 48.065301,
     "end_time": "2022-08-22T14:49:43.530434",
     "exception": false,
     "start_time": "2022-08-22T14:48:55.465133",
     "status": "completed"
    },
    "tags": []
   },
   "outputs": [
    {
     "data": {
      "text/plain": [
       "GridSearchCV(cv=5,\n",
       "             estimator=RandomForestClassifier(n_estimators=500, n_jobs=-1,\n",
       "                                              oob_score=True),\n",
       "             param_grid=[{'max_depth': [4, 6, 8, 10, 12]}],\n",
       "             return_train_score=True, scoring='accuracy')"
      ]
     },
     "execution_count": 28,
     "metadata": {},
     "output_type": "execute_result"
    }
   ],
   "source": [
    "# Random Forest\n",
    "from sklearn.model_selection import GridSearchCV\n",
    "from sklearn.ensemble import RandomForestClassifier\n",
    "\n",
    "param_grid = [\n",
    "    {\n",
    "    'max_depth':[4,6,8,10,12]\n",
    "    \n",
    "    }\n",
    "]\n",
    "rnd_clf = RandomForestClassifier(bootstrap=True, n_estimators=500, n_jobs=-1,\n",
    "                                oob_score=True)\n",
    "grid_search = GridSearchCV(rnd_clf, param_grid, cv=5, scoring='accuracy',\n",
    "                          return_train_score=True, refit=True)\n",
    "grid_search.fit(strain_prepared, strain_y)"
   ]
  },
  {
   "cell_type": "code",
   "execution_count": 29,
   "id": "f1e5443b",
   "metadata": {
    "execution": {
     "iopub.execute_input": "2022-08-22T14:49:43.560812Z",
     "iopub.status.busy": "2022-08-22T14:49:43.560492Z",
     "iopub.status.idle": "2022-08-22T14:49:43.566530Z",
     "shell.execute_reply": "2022-08-22T14:49:43.565234Z"
    },
    "papermill": {
     "duration": 0.024223,
     "end_time": "2022-08-22T14:49:43.569194",
     "exception": false,
     "start_time": "2022-08-22T14:49:43.544971",
     "status": "completed"
    },
    "tags": []
   },
   "outputs": [
    {
     "data": {
      "text/plain": [
       "0.7454710394157715"
      ]
     },
     "execution_count": 29,
     "metadata": {},
     "output_type": "execute_result"
    }
   ],
   "source": [
    "grid_search.best_score_"
   ]
  },
  {
   "cell_type": "code",
   "execution_count": 30,
   "id": "df157107",
   "metadata": {
    "execution": {
     "iopub.execute_input": "2022-08-22T14:49:43.601182Z",
     "iopub.status.busy": "2022-08-22T14:49:43.600842Z",
     "iopub.status.idle": "2022-08-22T14:49:43.606636Z",
     "shell.execute_reply": "2022-08-22T14:49:43.605459Z"
    },
    "papermill": {
     "duration": 0.024408,
     "end_time": "2022-08-22T14:49:43.608662",
     "exception": false,
     "start_time": "2022-08-22T14:49:43.584254",
     "status": "completed"
    },
    "tags": []
   },
   "outputs": [],
   "source": [
    "rnd_best = grid_search.best_estimator_"
   ]
  },
  {
   "cell_type": "code",
   "execution_count": 31,
   "id": "0acaf654",
   "metadata": {
    "execution": {
     "iopub.execute_input": "2022-08-22T14:49:43.640880Z",
     "iopub.status.busy": "2022-08-22T14:49:43.640547Z",
     "iopub.status.idle": "2022-08-22T14:49:43.647212Z",
     "shell.execute_reply": "2022-08-22T14:49:43.646222Z"
    },
    "papermill": {
     "duration": 0.025681,
     "end_time": "2022-08-22T14:49:43.649335",
     "exception": false,
     "start_time": "2022-08-22T14:49:43.623654",
     "status": "completed"
    },
    "tags": []
   },
   "outputs": [
    {
     "data": {
      "text/plain": [
       "0.7471958584987057"
      ]
     },
     "execution_count": 31,
     "metadata": {},
     "output_type": "execute_result"
    }
   ],
   "source": [
    "rnd_best.oob_score_"
   ]
  },
  {
   "cell_type": "code",
   "execution_count": 32,
   "id": "b2c7f499",
   "metadata": {
    "execution": {
     "iopub.execute_input": "2022-08-22T14:49:43.681970Z",
     "iopub.status.busy": "2022-08-22T14:49:43.681598Z",
     "iopub.status.idle": "2022-08-22T14:49:43.892868Z",
     "shell.execute_reply": "2022-08-22T14:49:43.891853Z"
    },
    "papermill": {
     "duration": 0.23047,
     "end_time": "2022-08-22T14:49:43.895231",
     "exception": false,
     "start_time": "2022-08-22T14:49:43.664761",
     "status": "completed"
    },
    "tags": []
   },
   "outputs": [
    {
     "data": {
      "text/plain": [
       "0.7343300747556066"
      ]
     },
     "execution_count": 32,
     "metadata": {},
     "output_type": "execute_result"
    }
   ],
   "source": [
    "y_pred = rnd_best.predict(val_prepared)\n",
    "accuracy_score(val_y, y_pred)"
   ]
  },
  {
   "cell_type": "code",
   "execution_count": 33,
   "id": "c14c363a",
   "metadata": {
    "execution": {
     "iopub.execute_input": "2022-08-22T14:49:43.928099Z",
     "iopub.status.busy": "2022-08-22T14:49:43.927762Z",
     "iopub.status.idle": "2022-08-22T14:49:44.046388Z",
     "shell.execute_reply": "2022-08-22T14:49:44.045219Z"
    },
    "papermill": {
     "duration": 0.138105,
     "end_time": "2022-08-22T14:49:44.048755",
     "exception": false,
     "start_time": "2022-08-22T14:49:43.910650",
     "status": "completed"
    },
    "tags": []
   },
   "outputs": [
    {
     "data": {
      "text/html": [
       "<div>\n",
       "<style scoped>\n",
       "    .dataframe tbody tr th:only-of-type {\n",
       "        vertical-align: middle;\n",
       "    }\n",
       "\n",
       "    .dataframe tbody tr th {\n",
       "        vertical-align: top;\n",
       "    }\n",
       "\n",
       "    .dataframe thead th {\n",
       "        text-align: right;\n",
       "    }\n",
       "</style>\n",
       "<table border=\"1\" class=\"dataframe\">\n",
       "  <thead>\n",
       "    <tr style=\"text-align: right;\">\n",
       "      <th></th>\n",
       "      <th>Variable</th>\n",
       "      <th>Imp</th>\n",
       "    </tr>\n",
       "  </thead>\n",
       "  <tbody>\n",
       "    <tr>\n",
       "      <th>31</th>\n",
       "      <td>AmountBilled</td>\n",
       "      <td>0.311011</td>\n",
       "    </tr>\n",
       "    <tr>\n",
       "      <th>4</th>\n",
       "      <td>CryoSleep:True</td>\n",
       "      <td>0.193845</td>\n",
       "    </tr>\n",
       "    <tr>\n",
       "      <th>3</th>\n",
       "      <td>CryoSleep:False</td>\n",
       "      <td>0.190221</td>\n",
       "    </tr>\n",
       "    <tr>\n",
       "      <th>0</th>\n",
       "      <td>HomePlanet:Earth</td>\n",
       "      <td>0.040702</td>\n",
       "    </tr>\n",
       "    <tr>\n",
       "      <th>1</th>\n",
       "      <td>HomePlanet:Europa</td>\n",
       "      <td>0.029740</td>\n",
       "    </tr>\n",
       "    <tr>\n",
       "      <th>22</th>\n",
       "      <td>Deck:G</td>\n",
       "      <td>0.024197</td>\n",
       "    </tr>\n",
       "    <tr>\n",
       "      <th>21</th>\n",
       "      <td>Deck:F</td>\n",
       "      <td>0.023121</td>\n",
       "    </tr>\n",
       "    <tr>\n",
       "      <th>20</th>\n",
       "      <td>Deck:E</td>\n",
       "      <td>0.019058</td>\n",
       "    </tr>\n",
       "    <tr>\n",
       "      <th>2</th>\n",
       "      <td>HomePlanet:Mars</td>\n",
       "      <td>0.016231</td>\n",
       "    </tr>\n",
       "    <tr>\n",
       "      <th>25</th>\n",
       "      <td>Side:S</td>\n",
       "      <td>0.015390</td>\n",
       "    </tr>\n",
       "    <tr>\n",
       "      <th>8</th>\n",
       "      <td>Age:0</td>\n",
       "      <td>0.014920</td>\n",
       "    </tr>\n",
       "    <tr>\n",
       "      <th>24</th>\n",
       "      <td>Side:P</td>\n",
       "      <td>0.014393</td>\n",
       "    </tr>\n",
       "    <tr>\n",
       "      <th>17</th>\n",
       "      <td>Deck:B</td>\n",
       "      <td>0.012872</td>\n",
       "    </tr>\n",
       "    <tr>\n",
       "      <th>18</th>\n",
       "      <td>Deck:C</td>\n",
       "      <td>0.011416</td>\n",
       "    </tr>\n",
       "    <tr>\n",
       "      <th>7</th>\n",
       "      <td>Destination:TRAPPIST-1e</td>\n",
       "      <td>0.010357</td>\n",
       "    </tr>\n",
       "    <tr>\n",
       "      <th>5</th>\n",
       "      <td>Destination:55 Cancri e</td>\n",
       "      <td>0.010040</td>\n",
       "    </tr>\n",
       "    <tr>\n",
       "      <th>27</th>\n",
       "      <td>GroupSize:1</td>\n",
       "      <td>0.008980</td>\n",
       "    </tr>\n",
       "    <tr>\n",
       "      <th>26</th>\n",
       "      <td>GroupSize:0</td>\n",
       "      <td>0.007713</td>\n",
       "    </tr>\n",
       "    <tr>\n",
       "      <th>9</th>\n",
       "      <td>Age:1</td>\n",
       "      <td>0.006396</td>\n",
       "    </tr>\n",
       "    <tr>\n",
       "      <th>10</th>\n",
       "      <td>Age:2</td>\n",
       "      <td>0.006100</td>\n",
       "    </tr>\n",
       "    <tr>\n",
       "      <th>6</th>\n",
       "      <td>Destination:PSO J318.5-22</td>\n",
       "      <td>0.004752</td>\n",
       "    </tr>\n",
       "    <tr>\n",
       "      <th>11</th>\n",
       "      <td>Age:3</td>\n",
       "      <td>0.004592</td>\n",
       "    </tr>\n",
       "    <tr>\n",
       "      <th>12</th>\n",
       "      <td>Age:4</td>\n",
       "      <td>0.004076</td>\n",
       "    </tr>\n",
       "    <tr>\n",
       "      <th>19</th>\n",
       "      <td>Deck:D</td>\n",
       "      <td>0.004018</td>\n",
       "    </tr>\n",
       "    <tr>\n",
       "      <th>28</th>\n",
       "      <td>GroupSize:2</td>\n",
       "      <td>0.003274</td>\n",
       "    </tr>\n",
       "    <tr>\n",
       "      <th>13</th>\n",
       "      <td>Age:5</td>\n",
       "      <td>0.002820</td>\n",
       "    </tr>\n",
       "    <tr>\n",
       "      <th>14</th>\n",
       "      <td>VIP:False</td>\n",
       "      <td>0.002746</td>\n",
       "    </tr>\n",
       "    <tr>\n",
       "      <th>15</th>\n",
       "      <td>VIP:True</td>\n",
       "      <td>0.002559</td>\n",
       "    </tr>\n",
       "    <tr>\n",
       "      <th>16</th>\n",
       "      <td>Deck:A</td>\n",
       "      <td>0.002349</td>\n",
       "    </tr>\n",
       "    <tr>\n",
       "      <th>29</th>\n",
       "      <td>GroupSize:3</td>\n",
       "      <td>0.001342</td>\n",
       "    </tr>\n",
       "    <tr>\n",
       "      <th>30</th>\n",
       "      <td>GroupSize:4</td>\n",
       "      <td>0.000609</td>\n",
       "    </tr>\n",
       "    <tr>\n",
       "      <th>23</th>\n",
       "      <td>Deck:T</td>\n",
       "      <td>0.000158</td>\n",
       "    </tr>\n",
       "  </tbody>\n",
       "</table>\n",
       "</div>"
      ],
      "text/plain": [
       "                     Variable       Imp\n",
       "31               AmountBilled  0.311011\n",
       "4              CryoSleep:True  0.193845\n",
       "3             CryoSleep:False  0.190221\n",
       "0            HomePlanet:Earth  0.040702\n",
       "1           HomePlanet:Europa  0.029740\n",
       "22                     Deck:G  0.024197\n",
       "21                     Deck:F  0.023121\n",
       "20                     Deck:E  0.019058\n",
       "2             HomePlanet:Mars  0.016231\n",
       "25                     Side:S  0.015390\n",
       "8                       Age:0  0.014920\n",
       "24                     Side:P  0.014393\n",
       "17                     Deck:B  0.012872\n",
       "18                     Deck:C  0.011416\n",
       "7     Destination:TRAPPIST-1e  0.010357\n",
       "5     Destination:55 Cancri e  0.010040\n",
       "27                GroupSize:1  0.008980\n",
       "26                GroupSize:0  0.007713\n",
       "9                       Age:1  0.006396\n",
       "10                      Age:2  0.006100\n",
       "6   Destination:PSO J318.5-22  0.004752\n",
       "11                      Age:3  0.004592\n",
       "12                      Age:4  0.004076\n",
       "19                     Deck:D  0.004018\n",
       "28                GroupSize:2  0.003274\n",
       "13                      Age:5  0.002820\n",
       "14                  VIP:False  0.002746\n",
       "15                   VIP:True  0.002559\n",
       "16                     Deck:A  0.002349\n",
       "29                GroupSize:3  0.001342\n",
       "30                GroupSize:4  0.000609\n",
       "23                     Deck:T  0.000158"
      ]
     },
     "execution_count": 33,
     "metadata": {},
     "output_type": "execute_result"
    }
   ],
   "source": [
    "# Checking Feature Importance\n",
    "feature_imp = pd.DataFrame()\n",
    "feature_imp['Variable'] = strain_prepared.columns\n",
    "feature_imp[\"Imp\"] = rnd_best.feature_importances_\n",
    "feature_imp.sort_values(by='Imp', ascending=False)"
   ]
  },
  {
   "cell_type": "code",
   "execution_count": 34,
   "id": "2eb5c749",
   "metadata": {
    "execution": {
     "iopub.execute_input": "2022-08-22T14:49:44.081986Z",
     "iopub.status.busy": "2022-08-22T14:49:44.081657Z",
     "iopub.status.idle": "2022-08-22T14:50:01.477179Z",
     "shell.execute_reply": "2022-08-22T14:50:01.475981Z"
    },
    "papermill": {
     "duration": 17.415012,
     "end_time": "2022-08-22T14:50:01.479708",
     "exception": false,
     "start_time": "2022-08-22T14:49:44.064696",
     "status": "completed"
    },
    "tags": []
   },
   "outputs": [
    {
     "name": "stderr",
     "output_type": "stream",
     "text": [
      "2022-08-22 14:49:50.298552: I tensorflow/core/common_runtime/process_util.cc:146] Creating new thread pool with default inter op setting: 2. Tune using inter_op_parallelism_threads for best performance.\n",
      "2022-08-22 14:49:50.435381: I tensorflow/compiler/mlir/mlir_graph_optimization_pass.cc:185] None of the MLIR Optimization Passes are enabled (registered 2)\n"
     ]
    },
    {
     "name": "stdout",
     "output_type": "stream",
     "text": [
      "Epoch 1/30\n",
      "70/70 [==============================] - 1s 6ms/step - loss: 0.7123 - accuracy: 0.5213 - val_loss: 0.6647 - val_accuracy: 0.7102\n",
      "Epoch 2/30\n",
      "70/70 [==============================] - 0s 4ms/step - loss: 0.6597 - accuracy: 0.6084 - val_loss: 0.6070 - val_accuracy: 0.7286\n",
      "Epoch 3/30\n",
      "70/70 [==============================] - 0s 3ms/step - loss: 0.6258 - accuracy: 0.6517 - val_loss: 0.5691 - val_accuracy: 0.7309\n",
      "Epoch 4/30\n",
      "70/70 [==============================] - 0s 3ms/step - loss: 0.6082 - accuracy: 0.6724 - val_loss: 0.5505 - val_accuracy: 0.7309\n",
      "Epoch 5/30\n",
      "70/70 [==============================] - 0s 4ms/step - loss: 0.5939 - accuracy: 0.6930 - val_loss: 0.5430 - val_accuracy: 0.7355\n",
      "Epoch 6/30\n",
      "70/70 [==============================] - 0s 3ms/step - loss: 0.5823 - accuracy: 0.6989 - val_loss: 0.5334 - val_accuracy: 0.7303\n",
      "Epoch 7/30\n",
      "70/70 [==============================] - 0s 3ms/step - loss: 0.5703 - accuracy: 0.7104 - val_loss: 0.5249 - val_accuracy: 0.7332\n",
      "Epoch 8/30\n",
      "70/70 [==============================] - 0s 4ms/step - loss: 0.5715 - accuracy: 0.7108 - val_loss: 0.5265 - val_accuracy: 0.7332\n",
      "Epoch 9/30\n",
      "70/70 [==============================] - 0s 4ms/step - loss: 0.5736 - accuracy: 0.7061 - val_loss: 0.5237 - val_accuracy: 0.7309\n",
      "Epoch 10/30\n",
      "70/70 [==============================] - 0s 4ms/step - loss: 0.5669 - accuracy: 0.7137 - val_loss: 0.5211 - val_accuracy: 0.7315\n",
      "Epoch 11/30\n",
      "70/70 [==============================] - 0s 4ms/step - loss: 0.5577 - accuracy: 0.7169 - val_loss: 0.5196 - val_accuracy: 0.7303\n",
      "Epoch 12/30\n",
      "70/70 [==============================] - 0s 4ms/step - loss: 0.5576 - accuracy: 0.7179 - val_loss: 0.5184 - val_accuracy: 0.7303\n",
      "Epoch 13/30\n",
      "70/70 [==============================] - 0s 3ms/step - loss: 0.5581 - accuracy: 0.7171 - val_loss: 0.5183 - val_accuracy: 0.7315\n",
      "Epoch 14/30\n",
      "70/70 [==============================] - 0s 3ms/step - loss: 0.5495 - accuracy: 0.7204 - val_loss: 0.5143 - val_accuracy: 0.7338\n",
      "Epoch 15/30\n",
      "70/70 [==============================] - 0s 3ms/step - loss: 0.5533 - accuracy: 0.7179 - val_loss: 0.5136 - val_accuracy: 0.7332\n",
      "Epoch 16/30\n",
      "70/70 [==============================] - 0s 3ms/step - loss: 0.5493 - accuracy: 0.7183 - val_loss: 0.5111 - val_accuracy: 0.7355\n",
      "Epoch 17/30\n",
      "70/70 [==============================] - 0s 3ms/step - loss: 0.5522 - accuracy: 0.7236 - val_loss: 0.5115 - val_accuracy: 0.7378\n",
      "Epoch 18/30\n",
      "70/70 [==============================] - 0s 4ms/step - loss: 0.5458 - accuracy: 0.7245 - val_loss: 0.5113 - val_accuracy: 0.7349\n",
      "Epoch 19/30\n",
      "70/70 [==============================] - 0s 4ms/step - loss: 0.5367 - accuracy: 0.7256 - val_loss: 0.5100 - val_accuracy: 0.7401\n",
      "Epoch 20/30\n",
      "70/70 [==============================] - 0s 3ms/step - loss: 0.5380 - accuracy: 0.7377 - val_loss: 0.5093 - val_accuracy: 0.7418\n",
      "Epoch 21/30\n",
      "70/70 [==============================] - 0s 3ms/step - loss: 0.5359 - accuracy: 0.7341 - val_loss: 0.5082 - val_accuracy: 0.7401\n",
      "Epoch 22/30\n",
      "70/70 [==============================] - 0s 3ms/step - loss: 0.5357 - accuracy: 0.7278 - val_loss: 0.5083 - val_accuracy: 0.7418\n",
      "Epoch 23/30\n",
      "70/70 [==============================] - 0s 3ms/step - loss: 0.5362 - accuracy: 0.7297 - val_loss: 0.5066 - val_accuracy: 0.7378\n",
      "Epoch 24/30\n",
      "70/70 [==============================] - 0s 3ms/step - loss: 0.5372 - accuracy: 0.7289 - val_loss: 0.5077 - val_accuracy: 0.7372\n",
      "Epoch 25/30\n",
      "70/70 [==============================] - 0s 4ms/step - loss: 0.5289 - accuracy: 0.7305 - val_loss: 0.5084 - val_accuracy: 0.7407\n",
      "Epoch 26/30\n",
      "70/70 [==============================] - 0s 4ms/step - loss: 0.5303 - accuracy: 0.7304 - val_loss: 0.5057 - val_accuracy: 0.7412\n",
      "Epoch 27/30\n",
      "70/70 [==============================] - 0s 3ms/step - loss: 0.5340 - accuracy: 0.7265 - val_loss: 0.5057 - val_accuracy: 0.7395\n",
      "Epoch 28/30\n",
      "70/70 [==============================] - 0s 3ms/step - loss: 0.5356 - accuracy: 0.7341 - val_loss: 0.5062 - val_accuracy: 0.7384\n",
      "Epoch 29/30\n",
      "70/70 [==============================] - 0s 4ms/step - loss: 0.5305 - accuracy: 0.7261 - val_loss: 0.5068 - val_accuracy: 0.7372\n",
      "Epoch 30/30\n",
      "70/70 [==============================] - 0s 3ms/step - loss: 0.5315 - accuracy: 0.7357 - val_loss: 0.5061 - val_accuracy: 0.7378\n"
     ]
    }
   ],
   "source": [
    "from tensorflow import keras\n",
    "from tensorflow.keras import layers as layers\n",
    "\n",
    "model = keras.Sequential()\n",
    "model.add(layers.Dense(60, activation='relu'))\n",
    "model.add(layers.Dropout(0.5))\n",
    "model.add(layers.Dense(30, activation='relu'))\n",
    "model.add(layers.Dropout(0.5))\n",
    "model.add(layers.Dense(10, activation='relu'))\n",
    "model.add(layers.Dropout(0.5))\n",
    "model.add(layers.Dense(1, activation='sigmoid'))\n",
    "model.compile(optimizer=\"RMSprop\", loss=\"binary_crossentropy\", metrics=[\"accuracy\"])\n",
    "history = model.fit(strain_prepared, strain_y, epochs=30, batch_size=100, \n",
    "                   validation_data=(val_prepared, val_y))"
   ]
  },
  {
   "cell_type": "code",
   "execution_count": 35,
   "id": "d89ae8e3",
   "metadata": {
    "execution": {
     "iopub.execute_input": "2022-08-22T14:50:01.528498Z",
     "iopub.status.busy": "2022-08-22T14:50:01.528187Z",
     "iopub.status.idle": "2022-08-22T14:50:01.534800Z",
     "shell.execute_reply": "2022-08-22T14:50:01.533854Z"
    },
    "papermill": {
     "duration": 0.033094,
     "end_time": "2022-08-22T14:50:01.536528",
     "exception": false,
     "start_time": "2022-08-22T14:50:01.503434",
     "status": "completed"
    },
    "tags": []
   },
   "outputs": [
    {
     "data": {
      "text/plain": [
       "dict_keys(['loss', 'accuracy', 'val_loss', 'val_accuracy'])"
      ]
     },
     "execution_count": 35,
     "metadata": {},
     "output_type": "execute_result"
    }
   ],
   "source": [
    "history.history.keys()"
   ]
  },
  {
   "cell_type": "code",
   "execution_count": 36,
   "id": "1369d889",
   "metadata": {
    "execution": {
     "iopub.execute_input": "2022-08-22T14:50:01.585492Z",
     "iopub.status.busy": "2022-08-22T14:50:01.585158Z",
     "iopub.status.idle": "2022-08-22T14:50:01.591080Z",
     "shell.execute_reply": "2022-08-22T14:50:01.590091Z"
    },
    "papermill": {
     "duration": 0.03259,
     "end_time": "2022-08-22T14:50:01.592851",
     "exception": false,
     "start_time": "2022-08-22T14:50:01.560261",
     "status": "completed"
    },
    "tags": []
   },
   "outputs": [],
   "source": [
    "epochs = history.epoch\n",
    "history = pd.DataFrame(history.history)\n",
    "accuracy = history['accuracy']\n",
    "val_accuracy = history['val_accuracy']\n",
    "loss = history['loss']\n",
    "val_loss = history['val_loss']"
   ]
  },
  {
   "cell_type": "code",
   "execution_count": 37,
   "id": "48dbcea5",
   "metadata": {
    "execution": {
     "iopub.execute_input": "2022-08-22T14:50:01.641264Z",
     "iopub.status.busy": "2022-08-22T14:50:01.640911Z",
     "iopub.status.idle": "2022-08-22T14:50:02.010288Z",
     "shell.execute_reply": "2022-08-22T14:50:02.009263Z"
    },
    "papermill": {
     "duration": 0.396062,
     "end_time": "2022-08-22T14:50:02.012570",
     "exception": false,
     "start_time": "2022-08-22T14:50:01.616508",
     "status": "completed"
    },
    "tags": []
   },
   "outputs": [
    {
     "data": {
      "image/png": "[encoded data removed]",
      "text/plain": [
       "<Figure size 432x288 with 1 Axes>"
      ]
     },
     "metadata": {},
     "output_type": "display_data"
    },
    {
     "data": {
      "image/png": "[encoded data removed]",
      "text/plain": [
       "<Figure size 432x288 with 1 Axes>"
      ]
     },
     "metadata": {},
     "output_type": "display_data"
    }
   ],
   "source": [
    "plt.plot(epochs, accuracy, 'b', label='Training accuracy')\n",
    "plt.plot(epochs, val_accuracy, 'r', label='Validation accuracy')\n",
    "plt.title('Accuracy')\n",
    "plt.legend()\n",
    "plt.show()\n",
    "\n",
    "plt.plot(epochs, loss, 'b', label='Training loss')\n",
    "plt.plot(epochs, val_loss, 'r', label='Validation loss')\n",
    "plt.title('Loss')\n",
    "plt.legend()\n",
    "plt.show()"
   ]
  },
  {
   "cell_type": "markdown",
   "id": "5a6eaae4",
   "metadata": {
    "papermill": {
     "duration": 0.024145,
     "end_time": "2022-08-22T14:50:02.061165",
     "exception": false,
     "start_time": "2022-08-22T14:50:02.037020",
     "status": "completed"
    },
    "tags": []
   },
   "source": [
    "There is some problem here that the validation accuracy (loss) is higher (lower) than the training accuracy (loss)."
   ]
  },
  {
   "cell_type": "markdown",
   "id": "1a8cfae8",
   "metadata": {
    "papermill": {
     "duration": 0.02459,
     "end_time": "2022-08-22T14:50:02.111239",
     "exception": false,
     "start_time": "2022-08-22T14:50:02.086649",
     "status": "completed"
    },
    "tags": []
   },
   "source": [
    "Solution(s):\n",
    "\n",
    "- Check stratitiedsplits\n",
    "\n",
    "- Check how other models performed on the training set and validation set."
   ]
  },
  {
   "cell_type": "markdown",
   "id": "ef7a0497",
   "metadata": {
    "papermill": {
     "duration": 0.024271,
     "end_time": "2022-08-22T14:50:02.161129",
     "exception": false,
     "start_time": "2022-08-22T14:50:02.136858",
     "status": "completed"
    },
    "tags": []
   },
   "source": [
    "# "
   ]
  }
 ],
 "metadata": {
  "kernelspec": {
   "display_name": "Python 3",
   "language": "python",
   "name": "python3"
  },
  "language_info": {
   "codemirror_mode": {
    "name": "ipython",
    "version": 3
   },
   "file_extension": ".py",
   "mimetype": "text/x-python",
   "name": "python",
   "nbconvert_exporter": "python",
   "pygments_lexer": "ipython3",
   "version": "3.7.12"
  },
  "papermill": {
   "default_parameters": {},
   "duration": 90.74642,
   "end_time": "2022-08-22T14:50:04.807842",
   "environment_variables": {},
   "exception": null,
   "input_path": "__notebook__.ipynb",
   "output_path": "__notebook__.ipynb",
   "parameters": {},
   "start_time": "2022-08-22T14:48:34.061422",
   "version": "2.3.4"
  }
 },
 "nbformat": 4,
 "nbformat_minor": 5
}
