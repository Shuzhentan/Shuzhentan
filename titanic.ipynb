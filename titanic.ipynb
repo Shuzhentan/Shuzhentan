{
 "cells": [
  {
   "cell_type": "code",
   "execution_count": 1,
   "id": "94f1166f",
   "metadata": {
    "_cell_guid": "b1076dfc-b9ad-4769-8c92-a6c4dae69d19",
    "_uuid": "8f2839f25d086af736a60e9eeb907d3b93b6e0e5",
    "execution": {
     "iopub.execute_input": "2022-08-09T14:47:24.194633Z",
     "iopub.status.busy": "2022-08-09T14:47:24.194157Z",
     "iopub.status.idle": "2022-08-09T14:47:24.211549Z",
     "shell.execute_reply": "2022-08-09T14:47:24.210352Z"
    },
    "papermill": {
     "duration": 0.036781,
     "end_time": "2022-08-09T14:47:24.214193",
     "exception": false,
     "start_time": "2022-08-09T14:47:24.177412",
     "status": "completed"
    },
    "tags": []
   },
   "outputs": [
    {
     "name": "stdout",
     "output_type": "stream",
     "text": [
      "/kaggle/input/titanic/train.csv\n",
      "/kaggle/input/titanic/test.csv\n",
      "/kaggle/input/titanic/gender_submission.csv\n"
     ]
    }
   ],
   "source": [
    "# This Python 3 environment comes with many helpful analytics libraries installed\n",
    "# It is defined by the kaggle/python Docker image: https://github.com/kaggle/docker-python\n",
    "# For example, here's several helpful packages to load\n",
    "\n",
    "import numpy as np # linear algebra\n",
    "import pandas as pd # data processing, CSV file I/O (e.g. pd.read_csv)\n",
    "\n",
    "# Input data files are available in the read-only \"../input/\" directory\n",
    "# For example, running this (by clicking run or pressing Shift+Enter) will list all files under the input directory\n",
    "\n",
    "import os\n",
    "for dirname, _, filenames in os.walk('/kaggle/input'):\n",
    "    for filename in filenames:\n",
    "        print(os.path.join(dirname, filename))\n",
    "\n",
    "# You can write up to 20GB to the current directory (/kaggle/working/) that gets preserved as output when you create a version using \"Save & Run All\" \n",
    "# You can also write temporary files to /kaggle/temp/, but they won't be saved outside of the current session"
   ]
  },
  {
   "cell_type": "code",
   "execution_count": 2,
   "id": "b3e9bc2a",
   "metadata": {
    "execution": {
     "iopub.execute_input": "2022-08-09T14:47:24.243521Z",
     "iopub.status.busy": "2022-08-09T14:47:24.242681Z",
     "iopub.status.idle": "2022-08-09T14:47:24.269966Z",
     "shell.execute_reply": "2022-08-09T14:47:24.268973Z"
    },
    "papermill": {
     "duration": 0.044706,
     "end_time": "2022-08-09T14:47:24.272563",
     "exception": false,
     "start_time": "2022-08-09T14:47:24.227857",
     "status": "completed"
    },
    "tags": []
   },
   "outputs": [],
   "source": [
    "train_data = pd.read_csv('/kaggle/input/titanic/train.csv')\n",
    "test_data = pd.read_csv(\"/kaggle/input/titanic/test.csv\")"
   ]
  },
  {
   "cell_type": "markdown",
   "id": "89680839",
   "metadata": {
    "papermill": {
     "duration": 0.014581,
     "end_time": "2022-08-09T14:47:24.300960",
     "exception": false,
     "start_time": "2022-08-09T14:47:24.286379",
     "status": "completed"
    },
    "tags": []
   },
   "source": [
    "Test data is set aside. It will not be touched until the final model has been confirmed.\n",
    "\n",
    "\n",
    "We will focus on the train_data."
   ]
  },
  {
   "cell_type": "code",
   "execution_count": 3,
   "id": "11a49acc",
   "metadata": {
    "execution": {
     "iopub.execute_input": "2022-08-09T14:47:24.330578Z",
     "iopub.status.busy": "2022-08-09T14:47:24.329811Z",
     "iopub.status.idle": "2022-08-09T14:47:24.354466Z",
     "shell.execute_reply": "2022-08-09T14:47:24.353308Z"
    },
    "papermill": {
     "duration": 0.042487,
     "end_time": "2022-08-09T14:47:24.357113",
     "exception": false,
     "start_time": "2022-08-09T14:47:24.314626",
     "status": "completed"
    },
    "tags": []
   },
   "outputs": [
    {
     "data": {
      "text/html": [
       "<div>\n",
       "<style scoped>\n",
       "    .dataframe tbody tr th:only-of-type {\n",
       "        vertical-align: middle;\n",
       "    }\n",
       "\n",
       "    .dataframe tbody tr th {\n",
       "        vertical-align: top;\n",
       "    }\n",
       "\n",
       "    .dataframe thead th {\n",
       "        text-align: right;\n",
       "    }\n",
       "</style>\n",
       "<table border=\"1\" class=\"dataframe\">\n",
       "  <thead>\n",
       "    <tr style=\"text-align: right;\">\n",
       "      <th></th>\n",
       "      <th>PassengerId</th>\n",
       "      <th>Survived</th>\n",
       "      <th>Pclass</th>\n",
       "      <th>Name</th>\n",
       "      <th>Sex</th>\n",
       "      <th>Age</th>\n",
       "      <th>SibSp</th>\n",
       "      <th>Parch</th>\n",
       "      <th>Ticket</th>\n",
       "      <th>Fare</th>\n",
       "      <th>Cabin</th>\n",
       "      <th>Embarked</th>\n",
       "    </tr>\n",
       "  </thead>\n",
       "  <tbody>\n",
       "    <tr>\n",
       "      <th>0</th>\n",
       "      <td>1</td>\n",
       "      <td>0</td>\n",
       "      <td>3</td>\n",
       "      <td>Braund, Mr. Owen Harris</td>\n",
       "      <td>male</td>\n",
       "      <td>22.0</td>\n",
       "      <td>1</td>\n",
       "      <td>0</td>\n",
       "      <td>A/5 21171</td>\n",
       "      <td>7.2500</td>\n",
       "      <td>NaN</td>\n",
       "      <td>S</td>\n",
       "    </tr>\n",
       "    <tr>\n",
       "      <th>1</th>\n",
       "      <td>2</td>\n",
       "      <td>1</td>\n",
       "      <td>1</td>\n",
       "      <td>Cumings, Mrs. John Bradley (Florence Briggs Th...</td>\n",
       "      <td>female</td>\n",
       "      <td>38.0</td>\n",
       "      <td>1</td>\n",
       "      <td>0</td>\n",
       "      <td>PC 17599</td>\n",
       "      <td>71.2833</td>\n",
       "      <td>C85</td>\n",
       "      <td>C</td>\n",
       "    </tr>\n",
       "    <tr>\n",
       "      <th>2</th>\n",
       "      <td>3</td>\n",
       "      <td>1</td>\n",
       "      <td>3</td>\n",
       "      <td>Heikkinen, Miss. Laina</td>\n",
       "      <td>female</td>\n",
       "      <td>26.0</td>\n",
       "      <td>0</td>\n",
       "      <td>0</td>\n",
       "      <td>STON/O2. 3101282</td>\n",
       "      <td>7.9250</td>\n",
       "      <td>NaN</td>\n",
       "      <td>S</td>\n",
       "    </tr>\n",
       "    <tr>\n",
       "      <th>3</th>\n",
       "      <td>4</td>\n",
       "      <td>1</td>\n",
       "      <td>1</td>\n",
       "      <td>Futrelle, Mrs. Jacques Heath (Lily May Peel)</td>\n",
       "      <td>female</td>\n",
       "      <td>35.0</td>\n",
       "      <td>1</td>\n",
       "      <td>0</td>\n",
       "      <td>113803</td>\n",
       "      <td>53.1000</td>\n",
       "      <td>C123</td>\n",
       "      <td>S</td>\n",
       "    </tr>\n",
       "    <tr>\n",
       "      <th>4</th>\n",
       "      <td>5</td>\n",
       "      <td>0</td>\n",
       "      <td>3</td>\n",
       "      <td>Allen, Mr. William Henry</td>\n",
       "      <td>male</td>\n",
       "      <td>35.0</td>\n",
       "      <td>0</td>\n",
       "      <td>0</td>\n",
       "      <td>373450</td>\n",
       "      <td>8.0500</td>\n",
       "      <td>NaN</td>\n",
       "      <td>S</td>\n",
       "    </tr>\n",
       "  </tbody>\n",
       "</table>\n",
       "</div>"
      ],
      "text/plain": [
       "   PassengerId  Survived  Pclass  \\\n",
       "0            1         0       3   \n",
       "1            2         1       1   \n",
       "2            3         1       3   \n",
       "3            4         1       1   \n",
       "4            5         0       3   \n",
       "\n",
       "                                                Name     Sex   Age  SibSp  \\\n",
       "0                            Braund, Mr. Owen Harris    male  22.0      1   \n",
       "1  Cumings, Mrs. John Bradley (Florence Briggs Th...  female  38.0      1   \n",
       "2                             Heikkinen, Miss. Laina  female  26.0      0   \n",
       "3       Futrelle, Mrs. Jacques Heath (Lily May Peel)  female  35.0      1   \n",
       "4                           Allen, Mr. William Henry    male  35.0      0   \n",
       "\n",
       "   Parch            Ticket     Fare Cabin Embarked  \n",
       "0      0         A/5 21171   7.2500   NaN        S  \n",
       "1      0          PC 17599  71.2833   C85        C  \n",
       "2      0  STON/O2. 3101282   7.9250   NaN        S  \n",
       "3      0            113803  53.1000  C123        S  \n",
       "4      0            373450   8.0500   NaN        S  "
      ]
     },
     "execution_count": 3,
     "metadata": {},
     "output_type": "execute_result"
    }
   ],
   "source": [
    "train_data.head(5)"
   ]
  },
  {
   "cell_type": "code",
   "execution_count": 4,
   "id": "6dbfdece",
   "metadata": {
    "execution": {
     "iopub.execute_input": "2022-08-09T14:47:24.387176Z",
     "iopub.status.busy": "2022-08-09T14:47:24.386381Z",
     "iopub.status.idle": "2022-08-09T14:47:24.411488Z",
     "shell.execute_reply": "2022-08-09T14:47:24.410288Z"
    },
    "papermill": {
     "duration": 0.042817,
     "end_time": "2022-08-09T14:47:24.414000",
     "exception": false,
     "start_time": "2022-08-09T14:47:24.371183",
     "status": "completed"
    },
    "tags": []
   },
   "outputs": [
    {
     "name": "stdout",
     "output_type": "stream",
     "text": [
      "<class 'pandas.core.frame.DataFrame'>\n",
      "RangeIndex: 891 entries, 0 to 890\n",
      "Data columns (total 12 columns):\n",
      " #   Column       Non-Null Count  Dtype  \n",
      "---  ------       --------------  -----  \n",
      " 0   PassengerId  891 non-null    int64  \n",
      " 1   Survived     891 non-null    int64  \n",
      " 2   Pclass       891 non-null    int64  \n",
      " 3   Name         891 non-null    object \n",
      " 4   Sex          891 non-null    object \n",
      " 5   Age          714 non-null    float64\n",
      " 6   SibSp        891 non-null    int64  \n",
      " 7   Parch        891 non-null    int64  \n",
      " 8   Ticket       891 non-null    object \n",
      " 9   Fare         891 non-null    float64\n",
      " 10  Cabin        204 non-null    object \n",
      " 11  Embarked     889 non-null    object \n",
      "dtypes: float64(2), int64(5), object(5)\n",
      "memory usage: 83.7+ KB\n"
     ]
    }
   ],
   "source": [
    "train_data.info()"
   ]
  },
  {
   "cell_type": "markdown",
   "id": "26333f4d",
   "metadata": {
    "papermill": {
     "duration": 0.013377,
     "end_time": "2022-08-09T14:47:24.441309",
     "exception": false,
     "start_time": "2022-08-09T14:47:24.427932",
     "status": "completed"
    },
    "tags": []
   },
   "source": [
    "As we have known, 'Survived' is the label.\n",
    "\n",
    "Age, Fare, Sibsp and Parch are numerical variables. Age contains missing values, and it will be handled later.\n",
    "\n",
    "Pclass, Sex, Embarked are categorical variables. The titles mentioned in \"Name\" can be also categorized into groups.\n",
    "\n",
    "Ticket and Cabin are string variables, which will not be considered in the model. Cabin could have provided some information to modelling, if the variable did not have too many missing values. \n",
    "\n",
    "To summarize, the features that I will play around are: Age, Fare, Sibsp, Parch, Pclass, Sex, Embarked, Title(Name).\n",
    "\n"
   ]
  },
  {
   "cell_type": "code",
   "execution_count": 5,
   "id": "04021898",
   "metadata": {
    "execution": {
     "iopub.execute_input": "2022-08-09T14:47:24.471033Z",
     "iopub.status.busy": "2022-08-09T14:47:24.470389Z",
     "iopub.status.idle": "2022-08-09T14:47:24.503602Z",
     "shell.execute_reply": "2022-08-09T14:47:24.502335Z"
    },
    "papermill": {
     "duration": 0.050974,
     "end_time": "2022-08-09T14:47:24.506058",
     "exception": false,
     "start_time": "2022-08-09T14:47:24.455084",
     "status": "completed"
    },
    "tags": []
   },
   "outputs": [
    {
     "data": {
      "text/html": [
       "<div>\n",
       "<style scoped>\n",
       "    .dataframe tbody tr th:only-of-type {\n",
       "        vertical-align: middle;\n",
       "    }\n",
       "\n",
       "    .dataframe tbody tr th {\n",
       "        vertical-align: top;\n",
       "    }\n",
       "\n",
       "    .dataframe thead th {\n",
       "        text-align: right;\n",
       "    }\n",
       "</style>\n",
       "<table border=\"1\" class=\"dataframe\">\n",
       "  <thead>\n",
       "    <tr style=\"text-align: right;\">\n",
       "      <th></th>\n",
       "      <th>PassengerId</th>\n",
       "      <th>Survived</th>\n",
       "      <th>Pclass</th>\n",
       "      <th>Age</th>\n",
       "      <th>SibSp</th>\n",
       "      <th>Parch</th>\n",
       "      <th>Fare</th>\n",
       "    </tr>\n",
       "  </thead>\n",
       "  <tbody>\n",
       "    <tr>\n",
       "      <th>count</th>\n",
       "      <td>891.000000</td>\n",
       "      <td>891.000000</td>\n",
       "      <td>891.000000</td>\n",
       "      <td>714.000000</td>\n",
       "      <td>891.000000</td>\n",
       "      <td>891.000000</td>\n",
       "      <td>891.000000</td>\n",
       "    </tr>\n",
       "    <tr>\n",
       "      <th>mean</th>\n",
       "      <td>446.000000</td>\n",
       "      <td>0.383838</td>\n",
       "      <td>2.308642</td>\n",
       "      <td>29.699118</td>\n",
       "      <td>0.523008</td>\n",
       "      <td>0.381594</td>\n",
       "      <td>32.204208</td>\n",
       "    </tr>\n",
       "    <tr>\n",
       "      <th>std</th>\n",
       "      <td>257.353842</td>\n",
       "      <td>0.486592</td>\n",
       "      <td>0.836071</td>\n",
       "      <td>14.526497</td>\n",
       "      <td>1.102743</td>\n",
       "      <td>0.806057</td>\n",
       "      <td>49.693429</td>\n",
       "    </tr>\n",
       "    <tr>\n",
       "      <th>min</th>\n",
       "      <td>1.000000</td>\n",
       "      <td>0.000000</td>\n",
       "      <td>1.000000</td>\n",
       "      <td>0.420000</td>\n",
       "      <td>0.000000</td>\n",
       "      <td>0.000000</td>\n",
       "      <td>0.000000</td>\n",
       "    </tr>\n",
       "    <tr>\n",
       "      <th>25%</th>\n",
       "      <td>223.500000</td>\n",
       "      <td>0.000000</td>\n",
       "      <td>2.000000</td>\n",
       "      <td>20.125000</td>\n",
       "      <td>0.000000</td>\n",
       "      <td>0.000000</td>\n",
       "      <td>7.910400</td>\n",
       "    </tr>\n",
       "    <tr>\n",
       "      <th>50%</th>\n",
       "      <td>446.000000</td>\n",
       "      <td>0.000000</td>\n",
       "      <td>3.000000</td>\n",
       "      <td>28.000000</td>\n",
       "      <td>0.000000</td>\n",
       "      <td>0.000000</td>\n",
       "      <td>14.454200</td>\n",
       "    </tr>\n",
       "    <tr>\n",
       "      <th>75%</th>\n",
       "      <td>668.500000</td>\n",
       "      <td>1.000000</td>\n",
       "      <td>3.000000</td>\n",
       "      <td>38.000000</td>\n",
       "      <td>1.000000</td>\n",
       "      <td>0.000000</td>\n",
       "      <td>31.000000</td>\n",
       "    </tr>\n",
       "    <tr>\n",
       "      <th>max</th>\n",
       "      <td>891.000000</td>\n",
       "      <td>1.000000</td>\n",
       "      <td>3.000000</td>\n",
       "      <td>80.000000</td>\n",
       "      <td>8.000000</td>\n",
       "      <td>6.000000</td>\n",
       "      <td>512.329200</td>\n",
       "    </tr>\n",
       "  </tbody>\n",
       "</table>\n",
       "</div>"
      ],
      "text/plain": [
       "       PassengerId    Survived      Pclass         Age       SibSp  \\\n",
       "count   891.000000  891.000000  891.000000  714.000000  891.000000   \n",
       "mean    446.000000    0.383838    2.308642   29.699118    0.523008   \n",
       "std     257.353842    0.486592    0.836071   14.526497    1.102743   \n",
       "min       1.000000    0.000000    1.000000    0.420000    0.000000   \n",
       "25%     223.500000    0.000000    2.000000   20.125000    0.000000   \n",
       "50%     446.000000    0.000000    3.000000   28.000000    0.000000   \n",
       "75%     668.500000    1.000000    3.000000   38.000000    1.000000   \n",
       "max     891.000000    1.000000    3.000000   80.000000    8.000000   \n",
       "\n",
       "            Parch        Fare  \n",
       "count  891.000000  891.000000  \n",
       "mean     0.381594   32.204208  \n",
       "std      0.806057   49.693429  \n",
       "min      0.000000    0.000000  \n",
       "25%      0.000000    7.910400  \n",
       "50%      0.000000   14.454200  \n",
       "75%      0.000000   31.000000  \n",
       "max      6.000000  512.329200  "
      ]
     },
     "execution_count": 5,
     "metadata": {},
     "output_type": "execute_result"
    }
   ],
   "source": [
    "train_data.describe()"
   ]
  },
  {
   "cell_type": "markdown",
   "id": "f9ee72ad",
   "metadata": {
    "papermill": {
     "duration": 0.014651,
     "end_time": "2022-08-09T14:47:24.534636",
     "exception": false,
     "start_time": "2022-08-09T14:47:24.519985",
     "status": "completed"
    },
    "tags": []
   },
   "source": [
    "Let's visualize stacked histograms with different colours representing 1='Survived' and 0='Not Survivied'."
   ]
  },
  {
   "cell_type": "code",
   "execution_count": 6,
   "id": "7abba441",
   "metadata": {
    "execution": {
     "iopub.execute_input": "2022-08-09T14:47:24.564873Z",
     "iopub.status.busy": "2022-08-09T14:47:24.563868Z",
     "iopub.status.idle": "2022-08-09T14:47:24.569047Z",
     "shell.execute_reply": "2022-08-09T14:47:24.567893Z"
    },
    "papermill": {
     "duration": 0.022685,
     "end_time": "2022-08-09T14:47:24.571369",
     "exception": false,
     "start_time": "2022-08-09T14:47:24.548684",
     "status": "completed"
    },
    "tags": []
   },
   "outputs": [],
   "source": [
    "#import seaborn as sns\n",
    "\n",
    "#fig, axes = plt.subplots(nrows=2, ncols=3, figsize=(15,8))\n",
    "#ax_id = [axes[0,0],axes[0,1],axes[0,2],axes[1,0], axes[1,1]]\n",
    "#for i in range(len(data_temp.columns)):\n",
    "#    ax = sns.distplot(surv.iloc[:,i], bins=20, label='Survived', kde=False, ax=ax_id[i])\n",
    "#    ax = sns.distplot(nonsurv.iloc[:,i], bins=20, label='NotSurvived', kde=False, ax=ax_id[i])\n",
    "#    ax.legend()\n",
    "    \n",
    "#fig.delaxes(axes[1,2])\n"
   ]
  },
  {
   "cell_type": "code",
   "execution_count": 7,
   "id": "6b121784",
   "metadata": {
    "execution": {
     "iopub.execute_input": "2022-08-09T14:47:24.601000Z",
     "iopub.status.busy": "2022-08-09T14:47:24.600621Z",
     "iopub.status.idle": "2022-08-09T14:47:29.430605Z",
     "shell.execute_reply": "2022-08-09T14:47:29.429476Z"
    },
    "papermill": {
     "duration": 4.847629,
     "end_time": "2022-08-09T14:47:29.433100",
     "exception": false,
     "start_time": "2022-08-09T14:47:24.585471",
     "status": "completed"
    },
    "tags": []
   },
   "outputs": [
    {
     "data": {
      "image/png": "[encoded data removed]",
      "text/plain": [
       "<Figure size 411.875x360 with 1 Axes>"
      ]
     },
     "metadata": {
      "needs_background": "light"
     },
     "output_type": "display_data"
    },
    {
     "data": {
      "image/png": "[encoded data removed]",
      "text/plain": [
       "<Figure size 411.875x360 with 1 Axes>"
      ]
     },
     "metadata": {
      "needs_background": "light"
     },
     "output_type": "display_data"
    },
    {
     "data": {
      "image/png": "[encoded data removed]",
      "text/plain": [
       "<Figure size 411.875x360 with 1 Axes>"
      ]
     },
     "metadata": {
      "needs_background": "light"
     },
     "output_type": "display_data"
    },
    {
     "data": {
      "image/png": "[encoded data removed]",
      "text/plain": [
       "<Figure size 411.875x360 with 1 Axes>"
      ]
     },
     "metadata": {
      "needs_background": "light"
     },
     "output_type": "display_data"
    },
    {
     "data": {
      "image/png": "[encoded data removed]",
      "text/plain": [
       "<Figure size 411.875x360 with 1 Axes>"
      ]
     },
     "metadata": {
      "needs_background": "light"
     },
     "output_type": "display_data"
    },
    {
     "data": {
      "image/png": "[encoded data removed]",
      "text/plain": [
       "<Figure size 411.875x360 with 1 Axes>"
      ]
     },
     "metadata": {
      "needs_background": "light"
     },
     "output_type": "display_data"
    },
    {
     "data": {
      "image/png": "[encoded data removed]",
      "text/plain": [
       "<Figure size 411.875x360 with 1 Axes>"
      ]
     },
     "metadata": {
      "needs_background": "light"
     },
     "output_type": "display_data"
    }
   ],
   "source": [
    "import matplotlib as mpl\n",
    "import matplotlib.pyplot as plt\n",
    "import seaborn as sns\n",
    "\n",
    "data_temp = train_data[train_data.columns.difference(['PassengerId','Survived','Cabin','Name','Ticket'])]\n",
    "for i in range(len(data_temp.columns)):\n",
    "    sns.displot(train_data, x=data_temp.columns[i], hue=\"Survived\", multiple=\"stack\", bins=20)\n",
    "    plt.show()"
   ]
  },
  {
   "cell_type": "code",
   "execution_count": 8,
   "id": "2c9edc1f",
   "metadata": {
    "execution": {
     "iopub.execute_input": "2022-08-09T14:47:29.466642Z",
     "iopub.status.busy": "2022-08-09T14:47:29.466232Z",
     "iopub.status.idle": "2022-08-09T14:47:33.978870Z",
     "shell.execute_reply": "2022-08-09T14:47:33.977788Z"
    },
    "papermill": {
     "duration": 4.532305,
     "end_time": "2022-08-09T14:47:33.981504",
     "exception": false,
     "start_time": "2022-08-09T14:47:29.449199",
     "status": "completed"
    },
    "tags": []
   },
   "outputs": [
    {
     "data": {
      "image/png": "[encoded data removed]",
      "text/plain": [
       "<Figure size 771.875x360 with 2 Axes>"
      ]
     },
     "metadata": {
      "needs_background": "light"
     },
     "output_type": "display_data"
    },
    {
     "data": {
      "image/png": "[encoded data removed]",
      "text/plain": [
       "<Figure size 771.875x360 with 2 Axes>"
      ]
     },
     "metadata": {
      "needs_background": "light"
     },
     "output_type": "display_data"
    },
    {
     "data": {
      "image/png": "[encoded data removed]",
      "text/plain": [
       "<Figure size 771.875x360 with 2 Axes>"
      ]
     },
     "metadata": {
      "needs_background": "light"
     },
     "output_type": "display_data"
    },
    {
     "data": {
      "image/png": "[encoded data removed]",
      "text/plain": [
       "<Figure size 771.875x360 with 2 Axes>"
      ]
     },
     "metadata": {
      "needs_background": "light"
     },
     "output_type": "display_data"
    },
    {
     "data": {
      "image/png": "[encoded data removed]",
      "text/plain": [
       "<Figure size 771.875x360 with 2 Axes>"
      ]
     },
     "metadata": {
      "needs_background": "light"
     },
     "output_type": "display_data"
    },
    {
     "data": {
      "image/png": "[encoded data removed]",
      "text/plain": [
       "<Figure size 771.875x360 with 2 Axes>"
      ]
     },
     "metadata": {
      "needs_background": "light"
     },
     "output_type": "display_data"
    }
   ],
   "source": [
    "for i in range(len(data_temp[data_temp.columns.difference(['Sex'])].columns)):\n",
    "    sns.displot(train_data, x=data_temp.columns[i], hue=\"Survived\", multiple=\"stack\", bins=20, col=\"Sex\")\n",
    "    plt.show()"
   ]
  },
  {
   "cell_type": "code",
   "execution_count": 9,
   "id": "b33dda38",
   "metadata": {
    "execution": {
     "iopub.execute_input": "2022-08-09T14:47:34.019138Z",
     "iopub.status.busy": "2022-08-09T14:47:34.018549Z",
     "iopub.status.idle": "2022-08-09T14:47:34.025099Z",
     "shell.execute_reply": "2022-08-09T14:47:34.024209Z"
    },
    "papermill": {
     "duration": 0.027938,
     "end_time": "2022-08-09T14:47:34.027319",
     "exception": false,
     "start_time": "2022-08-09T14:47:33.999381",
     "status": "completed"
    },
    "tags": []
   },
   "outputs": [],
   "source": [
    "# Start Data Preprocessing\n",
    "## Categorize individuals into Titles\n",
    "import re\n",
    "def title_group(names):\n",
    "    titles = pd.Series([re.search(', (.+?)\\. ', name).group(1) for name in names])\n",
    "    # fixing typoes\n",
    "    titles = titles.replace('Mlle', 'Miss')\n",
    "    titles = titles.replace('Ms', 'Miss')\n",
    "    titles = titles.replace('Mme', 'Mrs')\n",
    "    # create a new category for rare titles\n",
    "    titles = titles.replace(['Dr','Rev','Major','Col','the Countess', 'Capt', 'Sir','Lady', 'Don', 'Jonkheer', 'Dona'], 'rare')\n",
    "    return titles    \n",
    "#pd.Series(titles).value_counts()"
   ]
  },
  {
   "cell_type": "code",
   "execution_count": 10,
   "id": "7fd9b941",
   "metadata": {
    "execution": {
     "iopub.execute_input": "2022-08-09T14:47:34.064080Z",
     "iopub.status.busy": "2022-08-09T14:47:34.063385Z",
     "iopub.status.idle": "2022-08-09T14:47:34.075410Z",
     "shell.execute_reply": "2022-08-09T14:47:34.074572Z"
    },
    "papermill": {
     "duration": 0.033068,
     "end_time": "2022-08-09T14:47:34.077809",
     "exception": false,
     "start_time": "2022-08-09T14:47:34.044741",
     "status": "completed"
    },
    "tags": []
   },
   "outputs": [],
   "source": [
    "train_data[\"Title\"] = title_group(train_data.Name)\n",
    "test_data[\"Title\"] = title_group(test_data.Name)"
   ]
  },
  {
   "cell_type": "code",
   "execution_count": 11,
   "id": "cf287114",
   "metadata": {
    "execution": {
     "iopub.execute_input": "2022-08-09T14:47:34.114862Z",
     "iopub.status.busy": "2022-08-09T14:47:34.114175Z",
     "iopub.status.idle": "2022-08-09T14:47:34.331327Z",
     "shell.execute_reply": "2022-08-09T14:47:34.330196Z"
    },
    "papermill": {
     "duration": 0.238024,
     "end_time": "2022-08-09T14:47:34.333683",
     "exception": false,
     "start_time": "2022-08-09T14:47:34.095659",
     "status": "completed"
    },
    "tags": []
   },
   "outputs": [
    {
     "data": {
      "text/plain": [
       "<AxesSubplot:xlabel='Title', ylabel='count'>"
      ]
     },
     "execution_count": 11,
     "metadata": {},
     "output_type": "execute_result"
    },
    {
     "data": {
      "image/png": "[encoded data removed]",
      "text/plain": [
       "<Figure size 432x288 with 1 Axes>"
      ]
     },
     "metadata": {
      "needs_background": "light"
     },
     "output_type": "display_data"
    }
   ],
   "source": [
    "## Visualize title in a histogram\n",
    "#sns.displot(train_data, x='Title', hue=\"Survived\", multiple=\"stack\", bins=20)\n",
    "sns.countplot(x='Title', hue='Survived', data=train_data)"
   ]
  },
  {
   "cell_type": "code",
   "execution_count": 12,
   "id": "03cb6daf",
   "metadata": {
    "execution": {
     "iopub.execute_input": "2022-08-09T14:47:34.370918Z",
     "iopub.status.busy": "2022-08-09T14:47:34.370269Z",
     "iopub.status.idle": "2022-08-09T14:47:34.377154Z",
     "shell.execute_reply": "2022-08-09T14:47:34.376328Z"
    },
    "papermill": {
     "duration": 0.027688,
     "end_time": "2022-08-09T14:47:34.379145",
     "exception": false,
     "start_time": "2022-08-09T14:47:34.351457",
     "status": "completed"
    },
    "tags": []
   },
   "outputs": [],
   "source": [
    "# Create Number of travel partners denoted as \"Partners\"\n",
    "train_data[\"Partners\"] = train_data.Parch + train_data.SibSp\n",
    "train_data[\"Partners\"].value_counts()\n",
    "\n",
    "test_data[\"Partners\"] = test_data.Parch + test_data.SibSp"
   ]
  },
  {
   "cell_type": "code",
   "execution_count": 13,
   "id": "c3568514",
   "metadata": {
    "execution": {
     "iopub.execute_input": "2022-08-09T14:47:34.420470Z",
     "iopub.status.busy": "2022-08-09T14:47:34.419536Z",
     "iopub.status.idle": "2022-08-09T14:47:34.705454Z",
     "shell.execute_reply": "2022-08-09T14:47:34.704350Z"
    },
    "papermill": {
     "duration": 0.311271,
     "end_time": "2022-08-09T14:47:34.708015",
     "exception": false,
     "start_time": "2022-08-09T14:47:34.396744",
     "status": "completed"
    },
    "tags": []
   },
   "outputs": [
    {
     "data": {
      "text/plain": [
       "<AxesSubplot:xlabel='Partners', ylabel='count'>"
      ]
     },
     "execution_count": 13,
     "metadata": {},
     "output_type": "execute_result"
    },
    {
     "data": {
      "image/png": "[encoded data removed]",
      "text/plain": [
       "<Figure size 432x288 with 1 Axes>"
      ]
     },
     "metadata": {
      "needs_background": "light"
     },
     "output_type": "display_data"
    }
   ],
   "source": [
    "## Visualize \"Partners\" in a histogram\n",
    "sns.countplot(x='Partners', hue='Survived', data=train_data)"
   ]
  },
  {
   "cell_type": "code",
   "execution_count": 14,
   "id": "babddad9",
   "metadata": {
    "execution": {
     "iopub.execute_input": "2022-08-09T14:47:34.748111Z",
     "iopub.status.busy": "2022-08-09T14:47:34.746965Z",
     "iopub.status.idle": "2022-08-09T14:47:35.353157Z",
     "shell.execute_reply": "2022-08-09T14:47:35.352019Z"
    },
    "papermill": {
     "duration": 0.629135,
     "end_time": "2022-08-09T14:47:35.355742",
     "exception": false,
     "start_time": "2022-08-09T14:47:34.726607",
     "status": "completed"
    },
    "tags": []
   },
   "outputs": [
    {
     "data": {
      "image/png": "[encoded data removed]",
      "text/plain": [
       "<Figure size 455.075x288 with 2 Axes>"
      ]
     },
     "metadata": {
      "needs_background": "light"
     },
     "output_type": "display_data"
    }
   ],
   "source": [
    "sns.catplot(x=\"Partners\", hue=\"Survived\", col=\"Sex\",data=train_data, kind=\"count\",\n",
    "                height=4, aspect=.7);"
   ]
  },
  {
   "cell_type": "code",
   "execution_count": 15,
   "id": "14e3e6c9",
   "metadata": {
    "execution": {
     "iopub.execute_input": "2022-08-09T14:47:35.393882Z",
     "iopub.status.busy": "2022-08-09T14:47:35.393461Z",
     "iopub.status.idle": "2022-08-09T14:47:35.399695Z",
     "shell.execute_reply": "2022-08-09T14:47:35.398829Z"
    },
    "papermill": {
     "duration": 0.027973,
     "end_time": "2022-08-09T14:47:35.401859",
     "exception": false,
     "start_time": "2022-08-09T14:47:35.373886",
     "status": "completed"
    },
    "tags": []
   },
   "outputs": [],
   "source": [
    "## grouping \n",
    "### group 0, 1-3, 4-6, >=7\n",
    "def num_partners_grouping(numbers):\n",
    "    cat = []\n",
    "    for number in numbers:\n",
    "        if number==0:\n",
    "            temp = 1\n",
    "        elif number<=3:\n",
    "            temp = 2\n",
    "        elif number<=6:\n",
    "            temp = 3\n",
    "        else:\n",
    "            temp = 4\n",
    "        cat.append(temp)\n",
    "    return cat"
   ]
  },
  {
   "cell_type": "code",
   "execution_count": 16,
   "id": "5b77ca00",
   "metadata": {
    "execution": {
     "iopub.execute_input": "2022-08-09T14:47:35.440667Z",
     "iopub.status.busy": "2022-08-09T14:47:35.439720Z",
     "iopub.status.idle": "2022-08-09T14:47:35.446641Z",
     "shell.execute_reply": "2022-08-09T14:47:35.445796Z"
    },
    "papermill": {
     "duration": 0.02848,
     "end_time": "2022-08-09T14:47:35.448787",
     "exception": false,
     "start_time": "2022-08-09T14:47:35.420307",
     "status": "completed"
    },
    "tags": []
   },
   "outputs": [],
   "source": [
    "#[partners_grouping(number) for number in train_data.Partners]\n",
    "train_data[\"Partners_cat\"] = num_partners_grouping(train_data.Partners)\n",
    "test_data[\"Partners_cat\"] = num_partners_grouping(test_data.Partners)"
   ]
  },
  {
   "cell_type": "code",
   "execution_count": 17,
   "id": "e09a0c7c",
   "metadata": {
    "execution": {
     "iopub.execute_input": "2022-08-09T14:47:35.487424Z",
     "iopub.status.busy": "2022-08-09T14:47:35.486712Z",
     "iopub.status.idle": "2022-08-09T14:47:35.711052Z",
     "shell.execute_reply": "2022-08-09T14:47:35.709616Z"
    },
    "papermill": {
     "duration": 0.246546,
     "end_time": "2022-08-09T14:47:35.713638",
     "exception": false,
     "start_time": "2022-08-09T14:47:35.467092",
     "status": "completed"
    },
    "tags": []
   },
   "outputs": [
    {
     "data": {
      "text/plain": [
       "<AxesSubplot:xlabel='Partners_cat', ylabel='count'>"
      ]
     },
     "execution_count": 17,
     "metadata": {},
     "output_type": "execute_result"
    },
    {
     "data": {
      "image/png": "[encoded data removed]",
      "text/plain": [
       "<Figure size 432x288 with 1 Axes>"
      ]
     },
     "metadata": {
      "needs_background": "light"
     },
     "output_type": "display_data"
    }
   ],
   "source": [
    "## Visualize again\n",
    "sns.countplot(x='Partners_cat', hue='Survived', data=train_data)"
   ]
  },
  {
   "cell_type": "code",
   "execution_count": 18,
   "id": "1f185a01",
   "metadata": {
    "execution": {
     "iopub.execute_input": "2022-08-09T14:47:35.753211Z",
     "iopub.status.busy": "2022-08-09T14:47:35.752612Z",
     "iopub.status.idle": "2022-08-09T14:47:36.253770Z",
     "shell.execute_reply": "2022-08-09T14:47:36.252599Z"
    },
    "papermill": {
     "duration": 0.523667,
     "end_time": "2022-08-09T14:47:36.256095",
     "exception": false,
     "start_time": "2022-08-09T14:47:35.732428",
     "status": "completed"
    },
    "tags": []
   },
   "outputs": [
    {
     "data": {
      "image/png": "[encoded data removed]",
      "text/plain": [
       "<Figure size 455.075x288 with 2 Axes>"
      ]
     },
     "metadata": {
      "needs_background": "light"
     },
     "output_type": "display_data"
    }
   ],
   "source": [
    "sns.catplot(x=\"Partners_cat\", hue=\"Survived\", col=\"Sex\",data=train_data, kind=\"count\",\n",
    "                height=4, aspect=.7);"
   ]
  },
  {
   "cell_type": "code",
   "execution_count": 19,
   "id": "1bfffbd5",
   "metadata": {
    "execution": {
     "iopub.execute_input": "2022-08-09T14:47:36.296250Z",
     "iopub.status.busy": "2022-08-09T14:47:36.295842Z",
     "iopub.status.idle": "2022-08-09T14:47:36.303188Z",
     "shell.execute_reply": "2022-08-09T14:47:36.302295Z"
    },
    "papermill": {
     "duration": 0.029774,
     "end_time": "2022-08-09T14:47:36.305345",
     "exception": false,
     "start_time": "2022-08-09T14:47:36.275571",
     "status": "completed"
    },
    "tags": []
   },
   "outputs": [],
   "source": [
    "## Replace missing value in Age with medium\n",
    "age_median = train_data.Age.median()\n",
    "train_data.Age.fillna(age_median, inplace=True)\n",
    "#pd.Series(train_data[\"Age\"]).value_counts()\n",
    "\n",
    "test_data.Age.fillna(age_median, inplace=True)"
   ]
  },
  {
   "cell_type": "code",
   "execution_count": 20,
   "id": "85806bc9",
   "metadata": {
    "execution": {
     "iopub.execute_input": "2022-08-09T14:47:36.345399Z",
     "iopub.status.busy": "2022-08-09T14:47:36.344558Z",
     "iopub.status.idle": "2022-08-09T14:47:36.350652Z",
     "shell.execute_reply": "2022-08-09T14:47:36.349843Z"
    },
    "papermill": {
     "duration": 0.028624,
     "end_time": "2022-08-09T14:47:36.352619",
     "exception": false,
     "start_time": "2022-08-09T14:47:36.323995",
     "status": "completed"
    },
    "tags": []
   },
   "outputs": [],
   "source": [
    "## Grouping Age\n",
    "def age_grouping(ages):\n",
    "    cat = []\n",
    "    for age in ages:\n",
    "        if age<8:\n",
    "            temp=1\n",
    "        elif age<=16:\n",
    "            temp=2\n",
    "        elif age<=35:\n",
    "            temp=3\n",
    "        elif age<=52:\n",
    "            temp=4\n",
    "        elif age<=63:\n",
    "            temp=5\n",
    "        elif age<=77:\n",
    "            temp=6\n",
    "        else:\n",
    "            temp=7\n",
    "        cat.append(temp)\n",
    "    return cat"
   ]
  },
  {
   "cell_type": "code",
   "execution_count": 21,
   "id": "17ae4172",
   "metadata": {
    "execution": {
     "iopub.execute_input": "2022-08-09T14:47:36.391924Z",
     "iopub.status.busy": "2022-08-09T14:47:36.391248Z",
     "iopub.status.idle": "2022-08-09T14:47:36.399103Z",
     "shell.execute_reply": "2022-08-09T14:47:36.397833Z"
    },
    "papermill": {
     "duration": 0.030304,
     "end_time": "2022-08-09T14:47:36.401486",
     "exception": false,
     "start_time": "2022-08-09T14:47:36.371182",
     "status": "completed"
    },
    "tags": []
   },
   "outputs": [],
   "source": [
    "train_data[\"Age_cat\"] = age_grouping(train_data.Age)\n",
    "train_data[\"Age_cat\"].value_counts()\n",
    "\n",
    "test_data[\"Age_cat\"] = age_grouping(test_data.Age)"
   ]
  },
  {
   "cell_type": "code",
   "execution_count": 22,
   "id": "ef001e22",
   "metadata": {
    "execution": {
     "iopub.execute_input": "2022-08-09T14:47:36.440991Z",
     "iopub.status.busy": "2022-08-09T14:47:36.439965Z",
     "iopub.status.idle": "2022-08-09T14:47:36.607502Z",
     "shell.execute_reply": "2022-08-09T14:47:36.606343Z"
    },
    "papermill": {
     "duration": 0.19029,
     "end_time": "2022-08-09T14:47:36.610319",
     "exception": false,
     "start_time": "2022-08-09T14:47:36.420029",
     "status": "completed"
    },
    "tags": []
   },
   "outputs": [],
   "source": [
    "# drop assumed unnecessarily features\n",
    "train_features = train_data.drop([\"PassengerId\", \"Name\", \"Ticket\", \"Cabin\", \"Partners\",'Age'],\n",
    "                             axis=1)\n",
    "test_features = test_data.drop([\"PassengerId\", \"Name\", \"Ticket\", \"Cabin\", \"Partners\",'Age'],\n",
    "                             axis=1)\n",
    "\n",
    "\n",
    "# Separate labels from features\n",
    "train_labels = train_features[\"Survived\"]\n",
    "train_features = train_features.drop([\"Survived\"], axis=1)\n",
    "\n",
    "# split features into numerical and categorical feautures\n",
    "feature_list = list(train_features)\n",
    "ord_cat = [\"Partners_cat\", \"Age_cat\"] #ordinal categorical variables\n",
    "nom_cat = [\"Sex\", \"Embarked\", \"Title\", \"Pclass\"] #nominal categorical variables\n",
    "train_features_nom_cat = train_features[nom_cat]\n",
    "train_features_ord_cat = train_features[ord_cat]\n",
    "train_features_num = train_features.drop(np.concatenate([ord_cat, nom_cat]), axis = 1)\n",
    "num = list(train_features_num)\n",
    "\n",
    "test_features_nom_cat = test_features[nom_cat]\n",
    "test_features_ord_cat = test_features[ord_cat]\n",
    "test_features_num = test_features.drop(np.concatenate([ord_cat, nom_cat]), axis = 1)\n",
    "\n",
    "\n",
    "# Cleaning and scaling numerical features\n",
    "# Transformation Pipelines\n",
    "from sklearn.preprocessing import StandardScaler\n",
    "\n",
    "std_scaler = StandardScaler()\n",
    "train_features_num = std_scaler.fit_transform(train_features_num)\n",
    "test_features_num = std_scaler.transform(test_features_num)\n"
   ]
  },
  {
   "cell_type": "code",
   "execution_count": 23,
   "id": "80ec1498",
   "metadata": {
    "execution": {
     "iopub.execute_input": "2022-08-09T14:47:36.649845Z",
     "iopub.status.busy": "2022-08-09T14:47:36.649203Z",
     "iopub.status.idle": "2022-08-09T14:47:36.861114Z",
     "shell.execute_reply": "2022-08-09T14:47:36.860094Z"
    },
    "papermill": {
     "duration": 0.234522,
     "end_time": "2022-08-09T14:47:36.863821",
     "exception": false,
     "start_time": "2022-08-09T14:47:36.629299",
     "status": "completed"
    },
    "tags": []
   },
   "outputs": [],
   "source": [
    "# Cleaning and One-hot encoding categorical features for nominal features\n",
    "from sklearn.preprocessing import OneHotEncoder\n",
    "from sklearn.impute import SimpleImputer\n",
    "from sklearn.pipeline import Pipeline\n",
    "\n",
    "mode_imputer = SimpleImputer(missing_values=np.nan,\n",
    "                        strategy='most_frequent')\n",
    "onehot_encoder = OneHotEncoder()\n",
    "cat_pipeline = Pipeline([\n",
    "    (\"mode_imputer\", mode_imputer),\n",
    "    (\"onehot_encoder\", onehot_encoder)\n",
    "])\n",
    "\n",
    "train_features_nom_cat = cat_pipeline.fit_transform(train_features_nom_cat) # returns a sparse matrix\n",
    "train_features_nom_cat = train_features_nom_cat.toarray()\n",
    "\n",
    "test_features_nom_cat = cat_pipeline.fit_transform(test_features_nom_cat) # returns a sparse matrix\n",
    "test_features_nom_cat = test_features_nom_cat.toarray()\n"
   ]
  },
  {
   "cell_type": "code",
   "execution_count": 24,
   "id": "b5b892a3",
   "metadata": {
    "execution": {
     "iopub.execute_input": "2022-08-09T14:47:36.903548Z",
     "iopub.status.busy": "2022-08-09T14:47:36.903070Z",
     "iopub.status.idle": "2022-08-09T14:47:36.908942Z",
     "shell.execute_reply": "2022-08-09T14:47:36.908060Z"
    },
    "papermill": {
     "duration": 0.028273,
     "end_time": "2022-08-09T14:47:36.910966",
     "exception": false,
     "start_time": "2022-08-09T14:47:36.882693",
     "status": "completed"
    },
    "tags": []
   },
   "outputs": [],
   "source": [
    "train_features_prepared = np.append(train_features_num, train_features_nom_cat, axis=1)\n",
    "train_features_prepared = np.append(train_features_prepared, train_features_ord_cat, axis=1)\n",
    "\n",
    "test_features_prepared = np.append(test_features_num, test_features_nom_cat, axis=1)\n",
    "test_features_prepared = np.append(test_features_prepared, test_features_ord_cat, axis=1)"
   ]
  },
  {
   "cell_type": "code",
   "execution_count": 25,
   "id": "887c2a80",
   "metadata": {
    "execution": {
     "iopub.execute_input": "2022-08-09T14:47:36.950621Z",
     "iopub.status.busy": "2022-08-09T14:47:36.949740Z",
     "iopub.status.idle": "2022-08-09T14:47:36.958571Z",
     "shell.execute_reply": "2022-08-09T14:47:36.957565Z"
    },
    "papermill": {
     "duration": 0.031173,
     "end_time": "2022-08-09T14:47:36.960863",
     "exception": false,
     "start_time": "2022-08-09T14:47:36.929690",
     "status": "completed"
    },
    "tags": []
   },
   "outputs": [
    {
     "data": {
      "text/plain": [
       "Index(['SibSp', 'Parch', 'Fare', 'female', 'male', 'C', 'Q', 'S', 'Master',\n",
       "       'Miss', 'Mr', 'Mrs', 'rare', '1', '2', '3', 'Partners_cat', 'Age_cat'],\n",
       "      dtype='object')"
      ]
     },
     "execution_count": 25,
     "metadata": {},
     "output_type": "execute_result"
    }
   ],
   "source": [
    "col_names = num + list(np.concatenate(onehot_encoder.categories_)) + ord_cat\n",
    "for i in range(len(col_names)):\n",
    "    if ~isinstance(col_names[i], str):\n",
    "        col_names[i] = str(col_names[i])\n",
    "\n",
    "train_features_prepared = pd.DataFrame(train_features_prepared, \n",
    "                                       columns = col_names)\n",
    "train_features_prepared.columns"
   ]
  },
  {
   "cell_type": "code",
   "execution_count": 26,
   "id": "ca7a0710",
   "metadata": {
    "execution": {
     "iopub.execute_input": "2022-08-09T14:47:37.000182Z",
     "iopub.status.busy": "2022-08-09T14:47:36.999787Z",
     "iopub.status.idle": "2022-08-09T14:47:37.006685Z",
     "shell.execute_reply": "2022-08-09T14:47:37.005841Z"
    },
    "papermill": {
     "duration": 0.028984,
     "end_time": "2022-08-09T14:47:37.008663",
     "exception": false,
     "start_time": "2022-08-09T14:47:36.979679",
     "status": "completed"
    },
    "tags": []
   },
   "outputs": [
    {
     "data": {
      "text/plain": [
       "Index(['SibSp', 'Parch', 'Fare', 'female', 'male', 'C', 'Q', 'S', 'Master',\n",
       "       'Miss', 'Mr', 'Mrs', 'rare', '1', '2', '3', 'Partners_cat', 'Age_cat'],\n",
       "      dtype='object')"
      ]
     },
     "execution_count": 26,
     "metadata": {},
     "output_type": "execute_result"
    }
   ],
   "source": [
    "test_features_prepared = pd.DataFrame(test_features_prepared, \n",
    "                                       columns = col_names)\n",
    "test_features_prepared.columns"
   ]
  },
  {
   "cell_type": "code",
   "execution_count": 27,
   "id": "c07a510b",
   "metadata": {
    "execution": {
     "iopub.execute_input": "2022-08-09T14:47:37.048340Z",
     "iopub.status.busy": "2022-08-09T14:47:37.047735Z",
     "iopub.status.idle": "2022-08-09T14:47:37.055807Z",
     "shell.execute_reply": "2022-08-09T14:47:37.054895Z"
    },
    "papermill": {
     "duration": 0.030572,
     "end_time": "2022-08-09T14:47:37.057992",
     "exception": false,
     "start_time": "2022-08-09T14:47:37.027420",
     "status": "completed"
    },
    "tags": []
   },
   "outputs": [],
   "source": [
    "# Create feature cross: Sex*Age_cat, Sex*Partners_cat\n",
    "train_features_prepared[\"male_age\"] = train_features_prepared[\"male\"] * train_features_prepared[\"Age_cat\"]\n",
    "train_features_prepared[\"female_age\"] = train_features_prepared[\"female\"] * train_features_prepared[\"Age_cat\"]\n",
    "train_features_prepared[\"male_partners\"] = train_features_prepared[\"male\"] * train_features_prepared[\"Partners_cat\"]\n",
    "train_features_prepared[\"female_partners\"] = train_features_prepared[\"female\"] * train_features_prepared[\"Partners_cat\"]"
   ]
  },
  {
   "cell_type": "markdown",
   "id": "05ccab77",
   "metadata": {
    "papermill": {
     "duration": 0.018501,
     "end_time": "2022-08-09T14:47:37.095392",
     "exception": false,
     "start_time": "2022-08-09T14:47:37.076891",
     "status": "completed"
    },
    "tags": []
   },
   "source": [
    "I will do the feature crossing on test data before knowing feature importance."
   ]
  },
  {
   "cell_type": "code",
   "execution_count": 28,
   "id": "68aca058",
   "metadata": {
    "execution": {
     "iopub.execute_input": "2022-08-09T14:47:37.134863Z",
     "iopub.status.busy": "2022-08-09T14:47:37.134264Z",
     "iopub.status.idle": "2022-08-09T14:47:37.147715Z",
     "shell.execute_reply": "2022-08-09T14:47:37.145828Z"
    },
    "papermill": {
     "duration": 0.036842,
     "end_time": "2022-08-09T14:47:37.150925",
     "exception": false,
     "start_time": "2022-08-09T14:47:37.114083",
     "status": "completed"
    },
    "tags": []
   },
   "outputs": [
    {
     "name": "stdout",
     "output_type": "stream",
     "text": [
      "<class 'pandas.core.frame.DataFrame'>\n",
      "RangeIndex: 891 entries, 0 to 890\n",
      "Data columns (total 22 columns):\n",
      " #   Column           Non-Null Count  Dtype  \n",
      "---  ------           --------------  -----  \n",
      " 0   SibSp            891 non-null    float64\n",
      " 1   Parch            891 non-null    float64\n",
      " 2   Fare             891 non-null    float64\n",
      " 3   female           891 non-null    float64\n",
      " 4   male             891 non-null    float64\n",
      " 5   C                891 non-null    float64\n",
      " 6   Q                891 non-null    float64\n",
      " 7   S                891 non-null    float64\n",
      " 8   Master           891 non-null    float64\n",
      " 9   Miss             891 non-null    float64\n",
      " 10  Mr               891 non-null    float64\n",
      " 11  Mrs              891 non-null    float64\n",
      " 12  rare             891 non-null    float64\n",
      " 13  1                891 non-null    float64\n",
      " 14  2                891 non-null    float64\n",
      " 15  3                891 non-null    float64\n",
      " 16  Partners_cat     891 non-null    float64\n",
      " 17  Age_cat          891 non-null    float64\n",
      " 18  male_age         891 non-null    float64\n",
      " 19  female_age       891 non-null    float64\n",
      " 20  male_partners    891 non-null    float64\n",
      " 21  female_partners  891 non-null    float64\n",
      "dtypes: float64(22)\n",
      "memory usage: 153.3 KB\n"
     ]
    }
   ],
   "source": [
    "train_features_prepared.info()"
   ]
  },
  {
   "cell_type": "code",
   "execution_count": 29,
   "id": "a0d41598",
   "metadata": {
    "execution": {
     "iopub.execute_input": "2022-08-09T14:47:37.191005Z",
     "iopub.status.busy": "2022-08-09T14:47:37.190416Z",
     "iopub.status.idle": "2022-08-09T14:47:37.195366Z",
     "shell.execute_reply": "2022-08-09T14:47:37.194240Z"
    },
    "papermill": {
     "duration": 0.027637,
     "end_time": "2022-08-09T14:47:37.197829",
     "exception": false,
     "start_time": "2022-08-09T14:47:37.170192",
     "status": "completed"
    },
    "tags": []
   },
   "outputs": [],
   "source": [
    "# train and validation sets\n",
    "#from sklearn.model_selection import train_test_split\n",
    "#X_train, X_val, y_train, y_val = train_test_split(train_features_prepared, train_labels, random_state=42)"
   ]
  },
  {
   "cell_type": "code",
   "execution_count": 30,
   "id": "2136cbbe",
   "metadata": {
    "execution": {
     "iopub.execute_input": "2022-08-09T14:47:37.238861Z",
     "iopub.status.busy": "2022-08-09T14:47:37.237724Z",
     "iopub.status.idle": "2022-08-09T14:48:13.804872Z",
     "shell.execute_reply": "2022-08-09T14:48:13.803658Z"
    },
    "papermill": {
     "duration": 36.607761,
     "end_time": "2022-08-09T14:48:13.824868",
     "exception": false,
     "start_time": "2022-08-09T14:47:37.217107",
     "status": "completed"
    },
    "tags": []
   },
   "outputs": [
    {
     "data": {
      "text/plain": [
       "GridSearchCV(cv=5,\n",
       "             estimator=RandomForestClassifier(n_estimators=500, n_jobs=-1,\n",
       "                                              oob_score=True),\n",
       "             param_grid=[{'max_depth': [4, 6, 8, 10, 12]}],\n",
       "             return_train_score=True, scoring='accuracy')"
      ]
     },
     "execution_count": 30,
     "metadata": {},
     "output_type": "execute_result"
    }
   ],
   "source": [
    "#from sklearn.ensemble import GradientBoostingClassifier\n",
    "from sklearn.model_selection import GridSearchCV\n",
    "from sklearn.ensemble import RandomForestClassifier\n",
    "\n",
    "# Random Forests\n",
    "param_grid = [\n",
    "    {\n",
    "    'max_depth':[4,6,8,10,12],\n",
    "    }\n",
    "]\n",
    "rnd_clf = RandomForestClassifier(bootstrap=True, n_estimators=500, \n",
    "                                 n_jobs=-1, oob_score=True)\n",
    "\n",
    "grid_search = GridSearchCV(rnd_clf, param_grid, cv=5, scoring='accuracy',\n",
    "                          return_train_score=True, refit=True)\n",
    "grid_search.fit(train_features_prepared, train_labels)\n"
   ]
  },
  {
   "cell_type": "code",
   "execution_count": 31,
   "id": "96707b94",
   "metadata": {
    "execution": {
     "iopub.execute_input": "2022-08-09T14:48:13.865018Z",
     "iopub.status.busy": "2022-08-09T14:48:13.864432Z",
     "iopub.status.idle": "2022-08-09T14:48:13.872070Z",
     "shell.execute_reply": "2022-08-09T14:48:13.871029Z"
    },
    "papermill": {
     "duration": 0.030661,
     "end_time": "2022-08-09T14:48:13.874247",
     "exception": false,
     "start_time": "2022-08-09T14:48:13.843586",
     "status": "completed"
    },
    "tags": []
   },
   "outputs": [
    {
     "data": {
      "text/plain": [
       "0.8316427091833531"
      ]
     },
     "execution_count": 31,
     "metadata": {},
     "output_type": "execute_result"
    }
   ],
   "source": [
    "grid_search.best_score_"
   ]
  },
  {
   "cell_type": "code",
   "execution_count": 32,
   "id": "80c0ddf8",
   "metadata": {
    "execution": {
     "iopub.execute_input": "2022-08-09T14:48:13.914767Z",
     "iopub.status.busy": "2022-08-09T14:48:13.914368Z",
     "iopub.status.idle": "2022-08-09T14:48:13.921348Z",
     "shell.execute_reply": "2022-08-09T14:48:13.920319Z"
    },
    "papermill": {
     "duration": 0.029744,
     "end_time": "2022-08-09T14:48:13.923549",
     "exception": false,
     "start_time": "2022-08-09T14:48:13.893805",
     "status": "completed"
    },
    "tags": []
   },
   "outputs": [
    {
     "data": {
      "text/plain": [
       "RandomForestClassifier(max_depth=4, n_estimators=500, n_jobs=-1, oob_score=True)"
      ]
     },
     "execution_count": 32,
     "metadata": {},
     "output_type": "execute_result"
    }
   ],
   "source": [
    "rnd_clf_best = grid_search.best_estimator_\n",
    "rnd_clf_best"
   ]
  },
  {
   "cell_type": "code",
   "execution_count": 33,
   "id": "c4344a8f",
   "metadata": {
    "execution": {
     "iopub.execute_input": "2022-08-09T14:48:13.963541Z",
     "iopub.status.busy": "2022-08-09T14:48:13.963116Z",
     "iopub.status.idle": "2022-08-09T14:48:13.969770Z",
     "shell.execute_reply": "2022-08-09T14:48:13.968764Z"
    },
    "papermill": {
     "duration": 0.029172,
     "end_time": "2022-08-09T14:48:13.972066",
     "exception": false,
     "start_time": "2022-08-09T14:48:13.942894",
     "status": "completed"
    },
    "tags": []
   },
   "outputs": [
    {
     "data": {
      "text/plain": [
       "0.8316498316498316"
      ]
     },
     "execution_count": 33,
     "metadata": {},
     "output_type": "execute_result"
    }
   ],
   "source": [
    "rnd_clf_best.oob_score_"
   ]
  },
  {
   "cell_type": "code",
   "execution_count": 34,
   "id": "38eab73b",
   "metadata": {
    "execution": {
     "iopub.execute_input": "2022-08-09T14:48:14.013026Z",
     "iopub.status.busy": "2022-08-09T14:48:14.012661Z",
     "iopub.status.idle": "2022-08-09T14:48:24.194507Z",
     "shell.execute_reply": "2022-08-09T14:48:24.193431Z"
    },
    "papermill": {
     "duration": 10.205452,
     "end_time": "2022-08-09T14:48:24.197242",
     "exception": false,
     "start_time": "2022-08-09T14:48:13.991790",
     "status": "completed"
    },
    "tags": []
   },
   "outputs": [
    {
     "name": "stdout",
     "output_type": "stream",
     "text": [
      "Scores: [0.82222222 0.85393258 0.7752809  0.87640449 0.84269663 0.79775281\n",
      " 0.82022472 0.78651685 0.87640449 0.85393258]\n",
      "Mean: 0.8305368289637952\n",
      "Std_dev: 0.03419284897313234\n"
     ]
    }
   ],
   "source": [
    "# Double checking cv scores\n",
    "from sklearn.model_selection import cross_val_score\n",
    "\n",
    "scores = cross_val_score(rnd_clf_best, train_features_prepared, train_labels, scoring=\"accuracy\",\n",
    "                        cv=10)\n",
    "\n",
    "print(\"Scores:\", scores)\n",
    "print(\"Mean:\", scores.mean())\n",
    "print(\"Std_dev:\", scores.std())"
   ]
  },
  {
   "cell_type": "code",
   "execution_count": 35,
   "id": "24ea5843",
   "metadata": {
    "execution": {
     "iopub.execute_input": "2022-08-09T14:48:24.239341Z",
     "iopub.status.busy": "2022-08-09T14:48:24.238111Z",
     "iopub.status.idle": "2022-08-09T14:48:24.358871Z",
     "shell.execute_reply": "2022-08-09T14:48:24.357942Z"
    },
    "papermill": {
     "duration": 0.143334,
     "end_time": "2022-08-09T14:48:24.361159",
     "exception": false,
     "start_time": "2022-08-09T14:48:24.217825",
     "status": "completed"
    },
    "tags": []
   },
   "outputs": [
    {
     "data": {
      "text/html": [
       "<div>\n",
       "<style scoped>\n",
       "    .dataframe tbody tr th:only-of-type {\n",
       "        vertical-align: middle;\n",
       "    }\n",
       "\n",
       "    .dataframe tbody tr th {\n",
       "        vertical-align: top;\n",
       "    }\n",
       "\n",
       "    .dataframe thead th {\n",
       "        text-align: right;\n",
       "    }\n",
       "</style>\n",
       "<table border=\"1\" class=\"dataframe\">\n",
       "  <thead>\n",
       "    <tr style=\"text-align: right;\">\n",
       "      <th></th>\n",
       "      <th>Variable</th>\n",
       "      <th>Imp</th>\n",
       "    </tr>\n",
       "  </thead>\n",
       "  <tbody>\n",
       "    <tr>\n",
       "      <th>18</th>\n",
       "      <td>male_age</td>\n",
       "      <td>0.142772</td>\n",
       "    </tr>\n",
       "    <tr>\n",
       "      <th>21</th>\n",
       "      <td>female_partners</td>\n",
       "      <td>0.111392</td>\n",
       "    </tr>\n",
       "    <tr>\n",
       "      <th>10</th>\n",
       "      <td>Mr</td>\n",
       "      <td>0.103545</td>\n",
       "    </tr>\n",
       "    <tr>\n",
       "      <th>19</th>\n",
       "      <td>female_age</td>\n",
       "      <td>0.090527</td>\n",
       "    </tr>\n",
       "    <tr>\n",
       "      <th>20</th>\n",
       "      <td>male_partners</td>\n",
       "      <td>0.085775</td>\n",
       "    </tr>\n",
       "    <tr>\n",
       "      <th>3</th>\n",
       "      <td>female</td>\n",
       "      <td>0.082488</td>\n",
       "    </tr>\n",
       "    <tr>\n",
       "      <th>4</th>\n",
       "      <td>male</td>\n",
       "      <td>0.071455</td>\n",
       "    </tr>\n",
       "    <tr>\n",
       "      <th>15</th>\n",
       "      <td>3</td>\n",
       "      <td>0.062003</td>\n",
       "    </tr>\n",
       "    <tr>\n",
       "      <th>2</th>\n",
       "      <td>Fare</td>\n",
       "      <td>0.057353</td>\n",
       "    </tr>\n",
       "    <tr>\n",
       "      <th>13</th>\n",
       "      <td>1</td>\n",
       "      <td>0.038793</td>\n",
       "    </tr>\n",
       "    <tr>\n",
       "      <th>16</th>\n",
       "      <td>Partners_cat</td>\n",
       "      <td>0.034997</td>\n",
       "    </tr>\n",
       "    <tr>\n",
       "      <th>0</th>\n",
       "      <td>SibSp</td>\n",
       "      <td>0.021238</td>\n",
       "    </tr>\n",
       "    <tr>\n",
       "      <th>17</th>\n",
       "      <td>Age_cat</td>\n",
       "      <td>0.017411</td>\n",
       "    </tr>\n",
       "    <tr>\n",
       "      <th>8</th>\n",
       "      <td>Master</td>\n",
       "      <td>0.015887</td>\n",
       "    </tr>\n",
       "    <tr>\n",
       "      <th>14</th>\n",
       "      <td>2</td>\n",
       "      <td>0.014411</td>\n",
       "    </tr>\n",
       "    <tr>\n",
       "      <th>11</th>\n",
       "      <td>Mrs</td>\n",
       "      <td>0.013037</td>\n",
       "    </tr>\n",
       "    <tr>\n",
       "      <th>9</th>\n",
       "      <td>Miss</td>\n",
       "      <td>0.010305</td>\n",
       "    </tr>\n",
       "    <tr>\n",
       "      <th>1</th>\n",
       "      <td>Parch</td>\n",
       "      <td>0.009490</td>\n",
       "    </tr>\n",
       "    <tr>\n",
       "      <th>7</th>\n",
       "      <td>S</td>\n",
       "      <td>0.006166</td>\n",
       "    </tr>\n",
       "    <tr>\n",
       "      <th>5</th>\n",
       "      <td>C</td>\n",
       "      <td>0.006015</td>\n",
       "    </tr>\n",
       "    <tr>\n",
       "      <th>12</th>\n",
       "      <td>rare</td>\n",
       "      <td>0.002474</td>\n",
       "    </tr>\n",
       "    <tr>\n",
       "      <th>6</th>\n",
       "      <td>Q</td>\n",
       "      <td>0.002464</td>\n",
       "    </tr>\n",
       "  </tbody>\n",
       "</table>\n",
       "</div>"
      ],
      "text/plain": [
       "           Variable       Imp\n",
       "18         male_age  0.142772\n",
       "21  female_partners  0.111392\n",
       "10               Mr  0.103545\n",
       "19       female_age  0.090527\n",
       "20    male_partners  0.085775\n",
       "3            female  0.082488\n",
       "4              male  0.071455\n",
       "15                3  0.062003\n",
       "2              Fare  0.057353\n",
       "13                1  0.038793\n",
       "16     Partners_cat  0.034997\n",
       "0             SibSp  0.021238\n",
       "17          Age_cat  0.017411\n",
       "8            Master  0.015887\n",
       "14                2  0.014411\n",
       "11              Mrs  0.013037\n",
       "9              Miss  0.010305\n",
       "1             Parch  0.009490\n",
       "7                 S  0.006166\n",
       "5                 C  0.006015\n",
       "12             rare  0.002474\n",
       "6                 Q  0.002464"
      ]
     },
     "execution_count": 35,
     "metadata": {},
     "output_type": "execute_result"
    }
   ],
   "source": [
    "# Checking Feature Importance\n",
    "feature_imp = pd.DataFrame()\n",
    "feature_imp['Variable'] = train_features_prepared.columns\n",
    "feature_imp[\"Imp\"] = rnd_clf_best.feature_importances_\n",
    "feature_imp.sort_values(by='Imp', ascending=False)"
   ]
  },
  {
   "cell_type": "markdown",
   "id": "5a372147",
   "metadata": {
    "papermill": {
     "duration": 0.019493,
     "end_time": "2022-08-09T14:48:24.400670",
     "exception": false,
     "start_time": "2022-08-09T14:48:24.381177",
     "status": "completed"
    },
    "tags": []
   },
   "source": [
    "I will drop \"S\", \"C\", \"Q\", \"Parch\", and retrain the model again\n"
   ]
  },
  {
   "cell_type": "code",
   "execution_count": 36,
   "id": "769fe58b",
   "metadata": {
    "execution": {
     "iopub.execute_input": "2022-08-09T14:48:24.442544Z",
     "iopub.status.busy": "2022-08-09T14:48:24.441462Z",
     "iopub.status.idle": "2022-08-09T14:48:24.447297Z",
     "shell.execute_reply": "2022-08-09T14:48:24.446549Z"
    },
    "papermill": {
     "duration": 0.028989,
     "end_time": "2022-08-09T14:48:24.449361",
     "exception": false,
     "start_time": "2022-08-09T14:48:24.420372",
     "status": "completed"
    },
    "tags": []
   },
   "outputs": [],
   "source": [
    "train_features_prepared_dropped = train_features_prepared.drop(['S', \"C\", \"Q\", \"Parch\"], axis=1)"
   ]
  },
  {
   "cell_type": "code",
   "execution_count": 37,
   "id": "08064641",
   "metadata": {
    "execution": {
     "iopub.execute_input": "2022-08-09T14:48:24.491134Z",
     "iopub.status.busy": "2022-08-09T14:48:24.490089Z",
     "iopub.status.idle": "2022-08-09T14:48:25.827930Z",
     "shell.execute_reply": "2022-08-09T14:48:25.826845Z"
    },
    "papermill": {
     "duration": 1.360912,
     "end_time": "2022-08-09T14:48:25.830072",
     "exception": false,
     "start_time": "2022-08-09T14:48:24.469160",
     "status": "completed"
    },
    "tags": []
   },
   "outputs": [
    {
     "data": {
      "text/plain": [
       "RandomForestClassifier(max_depth=4, n_estimators=500, n_jobs=-1, oob_score=True)"
      ]
     },
     "execution_count": 37,
     "metadata": {},
     "output_type": "execute_result"
    }
   ],
   "source": [
    "\n",
    "# Retrain the model using same arguments of rnd_clf_best\n",
    "\n",
    "rnd_clf_dropped = RandomForestClassifier(max_depth=4, n_estimators=500, n_jobs=-1, oob_score=True)\n",
    "\n",
    "rnd_clf_dropped.fit(train_features_prepared_dropped, train_labels)\n"
   ]
  },
  {
   "cell_type": "code",
   "execution_count": 38,
   "id": "07e15ded",
   "metadata": {
    "execution": {
     "iopub.execute_input": "2022-08-09T14:48:25.873532Z",
     "iopub.status.busy": "2022-08-09T14:48:25.872796Z",
     "iopub.status.idle": "2022-08-09T14:48:25.879844Z",
     "shell.execute_reply": "2022-08-09T14:48:25.878801Z"
    },
    "papermill": {
     "duration": 0.030848,
     "end_time": "2022-08-09T14:48:25.881967",
     "exception": false,
     "start_time": "2022-08-09T14:48:25.851119",
     "status": "completed"
    },
    "tags": []
   },
   "outputs": [
    {
     "data": {
      "text/plain": [
       "0.835016835016835"
      ]
     },
     "execution_count": 38,
     "metadata": {},
     "output_type": "execute_result"
    }
   ],
   "source": [
    "rnd_clf_dropped.oob_score_"
   ]
  },
  {
   "cell_type": "code",
   "execution_count": 39,
   "id": "68ec76b4",
   "metadata": {
    "execution": {
     "iopub.execute_input": "2022-08-09T14:48:25.924910Z",
     "iopub.status.busy": "2022-08-09T14:48:25.923751Z",
     "iopub.status.idle": "2022-08-09T14:48:36.017163Z",
     "shell.execute_reply": "2022-08-09T14:48:36.015424Z"
    },
    "papermill": {
     "duration": 10.117738,
     "end_time": "2022-08-09T14:48:36.019949",
     "exception": false,
     "start_time": "2022-08-09T14:48:25.902211",
     "status": "completed"
    },
    "tags": []
   },
   "outputs": [
    {
     "name": "stdout",
     "output_type": "stream",
     "text": [
      "Scores: [0.82222222 0.87640449 0.7752809  0.87640449 0.84269663 0.80898876\n",
      " 0.82022472 0.78651685 0.87640449 0.85393258]\n",
      "Mean: 0.8339076154806492\n",
      "Std_dev: 0.035389116536277826\n"
     ]
    }
   ],
   "source": [
    "# Double checking cv scores\n",
    "scores_dropped = cross_val_score(rnd_clf_dropped, train_features_prepared_dropped, train_labels, scoring=\"accuracy\",\n",
    "                        cv=10)\n",
    "\n",
    "print(\"Scores:\", scores_dropped)\n",
    "print(\"Mean:\", scores_dropped.mean())\n",
    "print(\"Std_dev:\", scores_dropped.std())"
   ]
  },
  {
   "cell_type": "code",
   "execution_count": 40,
   "id": "7046cf5a",
   "metadata": {
    "execution": {
     "iopub.execute_input": "2022-08-09T14:48:36.061729Z",
     "iopub.status.busy": "2022-08-09T14:48:36.061306Z",
     "iopub.status.idle": "2022-08-09T14:48:36.179903Z",
     "shell.execute_reply": "2022-08-09T14:48:36.178819Z"
    },
    "papermill": {
     "duration": 0.142071,
     "end_time": "2022-08-09T14:48:36.182206",
     "exception": false,
     "start_time": "2022-08-09T14:48:36.040135",
     "status": "completed"
    },
    "tags": []
   },
   "outputs": [
    {
     "data": {
      "text/html": [
       "<div>\n",
       "<style scoped>\n",
       "    .dataframe tbody tr th:only-of-type {\n",
       "        vertical-align: middle;\n",
       "    }\n",
       "\n",
       "    .dataframe tbody tr th {\n",
       "        vertical-align: top;\n",
       "    }\n",
       "\n",
       "    .dataframe thead th {\n",
       "        text-align: right;\n",
       "    }\n",
       "</style>\n",
       "<table border=\"1\" class=\"dataframe\">\n",
       "  <thead>\n",
       "    <tr style=\"text-align: right;\">\n",
       "      <th></th>\n",
       "      <th>Variable</th>\n",
       "      <th>Imp</th>\n",
       "    </tr>\n",
       "  </thead>\n",
       "  <tbody>\n",
       "    <tr>\n",
       "      <th>14</th>\n",
       "      <td>male_age</td>\n",
       "      <td>0.157677</td>\n",
       "    </tr>\n",
       "    <tr>\n",
       "      <th>6</th>\n",
       "      <td>Mr</td>\n",
       "      <td>0.111133</td>\n",
       "    </tr>\n",
       "    <tr>\n",
       "      <th>17</th>\n",
       "      <td>female_partners</td>\n",
       "      <td>0.106986</td>\n",
       "    </tr>\n",
       "    <tr>\n",
       "      <th>3</th>\n",
       "      <td>male</td>\n",
       "      <td>0.088170</td>\n",
       "    </tr>\n",
       "    <tr>\n",
       "      <th>15</th>\n",
       "      <td>female_age</td>\n",
       "      <td>0.079609</td>\n",
       "    </tr>\n",
       "    <tr>\n",
       "      <th>11</th>\n",
       "      <td>3</td>\n",
       "      <td>0.074887</td>\n",
       "    </tr>\n",
       "    <tr>\n",
       "      <th>16</th>\n",
       "      <td>male_partners</td>\n",
       "      <td>0.074741</td>\n",
       "    </tr>\n",
       "    <tr>\n",
       "      <th>2</th>\n",
       "      <td>female</td>\n",
       "      <td>0.071585</td>\n",
       "    </tr>\n",
       "    <tr>\n",
       "      <th>1</th>\n",
       "      <td>Fare</td>\n",
       "      <td>0.058580</td>\n",
       "    </tr>\n",
       "    <tr>\n",
       "      <th>12</th>\n",
       "      <td>Partners_cat</td>\n",
       "      <td>0.043747</td>\n",
       "    </tr>\n",
       "    <tr>\n",
       "      <th>9</th>\n",
       "      <td>1</td>\n",
       "      <td>0.036495</td>\n",
       "    </tr>\n",
       "    <tr>\n",
       "      <th>0</th>\n",
       "      <td>SibSp</td>\n",
       "      <td>0.026202</td>\n",
       "    </tr>\n",
       "    <tr>\n",
       "      <th>13</th>\n",
       "      <td>Age_cat</td>\n",
       "      <td>0.017374</td>\n",
       "    </tr>\n",
       "    <tr>\n",
       "      <th>4</th>\n",
       "      <td>Master</td>\n",
       "      <td>0.017155</td>\n",
       "    </tr>\n",
       "    <tr>\n",
       "      <th>10</th>\n",
       "      <td>2</td>\n",
       "      <td>0.014027</td>\n",
       "    </tr>\n",
       "    <tr>\n",
       "      <th>7</th>\n",
       "      <td>Mrs</td>\n",
       "      <td>0.009685</td>\n",
       "    </tr>\n",
       "    <tr>\n",
       "      <th>5</th>\n",
       "      <td>Miss</td>\n",
       "      <td>0.008491</td>\n",
       "    </tr>\n",
       "    <tr>\n",
       "      <th>8</th>\n",
       "      <td>rare</td>\n",
       "      <td>0.003458</td>\n",
       "    </tr>\n",
       "  </tbody>\n",
       "</table>\n",
       "</div>"
      ],
      "text/plain": [
       "           Variable       Imp\n",
       "14         male_age  0.157677\n",
       "6                Mr  0.111133\n",
       "17  female_partners  0.106986\n",
       "3              male  0.088170\n",
       "15       female_age  0.079609\n",
       "11                3  0.074887\n",
       "16    male_partners  0.074741\n",
       "2            female  0.071585\n",
       "1              Fare  0.058580\n",
       "12     Partners_cat  0.043747\n",
       "9                 1  0.036495\n",
       "0             SibSp  0.026202\n",
       "13          Age_cat  0.017374\n",
       "4            Master  0.017155\n",
       "10                2  0.014027\n",
       "7               Mrs  0.009685\n",
       "5              Miss  0.008491\n",
       "8              rare  0.003458"
      ]
     },
     "execution_count": 40,
     "metadata": {},
     "output_type": "execute_result"
    }
   ],
   "source": [
    "# Checking Feature Importance\n",
    "feature_imp = pd.DataFrame()\n",
    "feature_imp['Variable'] = train_features_prepared_dropped.columns\n",
    "feature_imp[\"Imp\"] = rnd_clf_dropped.feature_importances_\n",
    "feature_imp.sort_values(by='Imp', ascending=False)"
   ]
  },
  {
   "cell_type": "markdown",
   "id": "3ac997d6",
   "metadata": {
    "papermill": {
     "duration": 0.01968,
     "end_time": "2022-08-09T14:48:36.222385",
     "exception": false,
     "start_time": "2022-08-09T14:48:36.202705",
     "status": "completed"
    },
    "tags": []
   },
   "source": [
    "The feature removal improves the estimate of generization accuracy.\n",
    "\n",
    "\n",
    "I will remove \"Age_cat\" to retrain the model again to see if there is improvement."
   ]
  },
  {
   "cell_type": "code",
   "execution_count": 41,
   "id": "25590e83",
   "metadata": {
    "execution": {
     "iopub.execute_input": "2022-08-09T14:48:36.264233Z",
     "iopub.status.busy": "2022-08-09T14:48:36.263466Z",
     "iopub.status.idle": "2022-08-09T14:48:37.600966Z",
     "shell.execute_reply": "2022-08-09T14:48:37.599799Z"
    },
    "papermill": {
     "duration": 1.361121,
     "end_time": "2022-08-09T14:48:37.603425",
     "exception": false,
     "start_time": "2022-08-09T14:48:36.242304",
     "status": "completed"
    },
    "tags": []
   },
   "outputs": [
    {
     "data": {
      "text/plain": [
       "RandomForestClassifier(max_depth=4, n_estimators=500, n_jobs=-1, oob_score=True)"
      ]
     },
     "execution_count": 41,
     "metadata": {},
     "output_type": "execute_result"
    }
   ],
   "source": [
    "# Drop 'Age_cat\n",
    "train_features_prepared_dropped1 = train_features_prepared_dropped.drop(['Age_cat'], axis=1)\n",
    "\n",
    "\n",
    "# Retrain the model using same arguments of rnd_clf_best\n",
    "\n",
    "rnd_clf_dropped1 = RandomForestClassifier(max_depth=4, n_estimators=500, n_jobs=-1, oob_score=True)\n",
    "\n",
    "rnd_clf_dropped1.fit(train_features_prepared_dropped1, train_labels)\n"
   ]
  },
  {
   "cell_type": "code",
   "execution_count": 42,
   "id": "c97488e3",
   "metadata": {
    "execution": {
     "iopub.execute_input": "2022-08-09T14:48:37.645731Z",
     "iopub.status.busy": "2022-08-09T14:48:37.644948Z",
     "iopub.status.idle": "2022-08-09T14:48:37.652203Z",
     "shell.execute_reply": "2022-08-09T14:48:37.651185Z"
    },
    "papermill": {
     "duration": 0.030645,
     "end_time": "2022-08-09T14:48:37.654428",
     "exception": false,
     "start_time": "2022-08-09T14:48:37.623783",
     "status": "completed"
    },
    "tags": []
   },
   "outputs": [
    {
     "data": {
      "text/plain": [
       "0.835016835016835"
      ]
     },
     "execution_count": 42,
     "metadata": {},
     "output_type": "execute_result"
    }
   ],
   "source": [
    "rnd_clf_dropped1.oob_score_"
   ]
  },
  {
   "cell_type": "code",
   "execution_count": 43,
   "id": "e8396cb7",
   "metadata": {
    "execution": {
     "iopub.execute_input": "2022-08-09T14:48:37.697060Z",
     "iopub.status.busy": "2022-08-09T14:48:37.696256Z",
     "iopub.status.idle": "2022-08-09T14:48:47.529484Z",
     "shell.execute_reply": "2022-08-09T14:48:47.527962Z"
    },
    "papermill": {
     "duration": 9.857631,
     "end_time": "2022-08-09T14:48:47.532526",
     "exception": false,
     "start_time": "2022-08-09T14:48:37.674895",
     "status": "completed"
    },
    "tags": []
   },
   "outputs": [
    {
     "name": "stdout",
     "output_type": "stream",
     "text": [
      "Scores: [0.83333333 0.87640449 0.7752809  0.87640449 0.84269663 0.80898876\n",
      " 0.82022472 0.78651685 0.87640449 0.85393258]\n",
      "Mean: 0.8350187265917602\n",
      "Std_dev: 0.0351785892234905\n"
     ]
    }
   ],
   "source": [
    "# Double checking cv scores\n",
    "scores_dropped = cross_val_score(rnd_clf_dropped1, train_features_prepared_dropped1, train_labels, scoring=\"accuracy\",\n",
    "                        cv=10)\n",
    "\n",
    "print(\"Scores:\", scores_dropped)\n",
    "print(\"Mean:\", scores_dropped.mean())\n",
    "print(\"Std_dev:\", scores_dropped.std())"
   ]
  },
  {
   "cell_type": "code",
   "execution_count": 44,
   "id": "f96aa44f",
   "metadata": {
    "execution": {
     "iopub.execute_input": "2022-08-09T14:48:47.576029Z",
     "iopub.status.busy": "2022-08-09T14:48:47.575626Z",
     "iopub.status.idle": "2022-08-09T14:48:47.693910Z",
     "shell.execute_reply": "2022-08-09T14:48:47.692856Z"
    },
    "papermill": {
     "duration": 0.142775,
     "end_time": "2022-08-09T14:48:47.696306",
     "exception": false,
     "start_time": "2022-08-09T14:48:47.553531",
     "status": "completed"
    },
    "tags": []
   },
   "outputs": [
    {
     "data": {
      "text/html": [
       "<div>\n",
       "<style scoped>\n",
       "    .dataframe tbody tr th:only-of-type {\n",
       "        vertical-align: middle;\n",
       "    }\n",
       "\n",
       "    .dataframe tbody tr th {\n",
       "        vertical-align: top;\n",
       "    }\n",
       "\n",
       "    .dataframe thead th {\n",
       "        text-align: right;\n",
       "    }\n",
       "</style>\n",
       "<table border=\"1\" class=\"dataframe\">\n",
       "  <thead>\n",
       "    <tr style=\"text-align: right;\">\n",
       "      <th></th>\n",
       "      <th>Variable</th>\n",
       "      <th>Imp</th>\n",
       "    </tr>\n",
       "  </thead>\n",
       "  <tbody>\n",
       "    <tr>\n",
       "      <th>13</th>\n",
       "      <td>male_age</td>\n",
       "      <td>0.176647</td>\n",
       "    </tr>\n",
       "    <tr>\n",
       "      <th>6</th>\n",
       "      <td>Mr</td>\n",
       "      <td>0.111600</td>\n",
       "    </tr>\n",
       "    <tr>\n",
       "      <th>14</th>\n",
       "      <td>female_age</td>\n",
       "      <td>0.090521</td>\n",
       "    </tr>\n",
       "    <tr>\n",
       "      <th>16</th>\n",
       "      <td>female_partners</td>\n",
       "      <td>0.086737</td>\n",
       "    </tr>\n",
       "    <tr>\n",
       "      <th>3</th>\n",
       "      <td>male</td>\n",
       "      <td>0.083951</td>\n",
       "    </tr>\n",
       "    <tr>\n",
       "      <th>15</th>\n",
       "      <td>male_partners</td>\n",
       "      <td>0.083066</td>\n",
       "    </tr>\n",
       "    <tr>\n",
       "      <th>11</th>\n",
       "      <td>3</td>\n",
       "      <td>0.072063</td>\n",
       "    </tr>\n",
       "    <tr>\n",
       "      <th>1</th>\n",
       "      <td>Fare</td>\n",
       "      <td>0.065736</td>\n",
       "    </tr>\n",
       "    <tr>\n",
       "      <th>2</th>\n",
       "      <td>female</td>\n",
       "      <td>0.065041</td>\n",
       "    </tr>\n",
       "    <tr>\n",
       "      <th>12</th>\n",
       "      <td>Partners_cat</td>\n",
       "      <td>0.046912</td>\n",
       "    </tr>\n",
       "    <tr>\n",
       "      <th>9</th>\n",
       "      <td>1</td>\n",
       "      <td>0.037306</td>\n",
       "    </tr>\n",
       "    <tr>\n",
       "      <th>0</th>\n",
       "      <td>SibSp</td>\n",
       "      <td>0.025529</td>\n",
       "    </tr>\n",
       "    <tr>\n",
       "      <th>4</th>\n",
       "      <td>Master</td>\n",
       "      <td>0.019788</td>\n",
       "    </tr>\n",
       "    <tr>\n",
       "      <th>10</th>\n",
       "      <td>2</td>\n",
       "      <td>0.013286</td>\n",
       "    </tr>\n",
       "    <tr>\n",
       "      <th>5</th>\n",
       "      <td>Miss</td>\n",
       "      <td>0.010071</td>\n",
       "    </tr>\n",
       "    <tr>\n",
       "      <th>7</th>\n",
       "      <td>Mrs</td>\n",
       "      <td>0.008512</td>\n",
       "    </tr>\n",
       "    <tr>\n",
       "      <th>8</th>\n",
       "      <td>rare</td>\n",
       "      <td>0.003232</td>\n",
       "    </tr>\n",
       "  </tbody>\n",
       "</table>\n",
       "</div>"
      ],
      "text/plain": [
       "           Variable       Imp\n",
       "13         male_age  0.176647\n",
       "6                Mr  0.111600\n",
       "14       female_age  0.090521\n",
       "16  female_partners  0.086737\n",
       "3              male  0.083951\n",
       "15    male_partners  0.083066\n",
       "11                3  0.072063\n",
       "1              Fare  0.065736\n",
       "2            female  0.065041\n",
       "12     Partners_cat  0.046912\n",
       "9                 1  0.037306\n",
       "0             SibSp  0.025529\n",
       "4            Master  0.019788\n",
       "10                2  0.013286\n",
       "5              Miss  0.010071\n",
       "7               Mrs  0.008512\n",
       "8              rare  0.003232"
      ]
     },
     "execution_count": 44,
     "metadata": {},
     "output_type": "execute_result"
    }
   ],
   "source": [
    "# Checking Feature Importance\n",
    "feature_imp = pd.DataFrame()\n",
    "feature_imp['Variable'] = train_features_prepared_dropped1.columns\n",
    "feature_imp[\"Imp\"] = rnd_clf_dropped1.feature_importances_\n",
    "feature_imp.sort_values(by='Imp', ascending=False)"
   ]
  },
  {
   "cell_type": "raw",
   "id": "f6a5234b",
   "metadata": {
    "papermill": {
     "duration": 0.020792,
     "end_time": "2022-08-09T14:48:47.737713",
     "exception": false,
     "start_time": "2022-08-09T14:48:47.716921",
     "status": "completed"
    },
    "tags": []
   },
   "source": [
    "Remove does not improve accuracy estimate nor decrease accuracy. It shows no contribution to model accuracy. \n",
    "\n",
    "I will remove 'C', 'S', 'Q', 'Parch', 'Age_cat' features for test data."
   ]
  },
  {
   "cell_type": "code",
   "execution_count": 45,
   "id": "fedd58a9",
   "metadata": {
    "execution": {
     "iopub.execute_input": "2022-08-09T14:48:47.780732Z",
     "iopub.status.busy": "2022-08-09T14:48:47.780339Z",
     "iopub.status.idle": "2022-08-09T14:48:47.785343Z",
     "shell.execute_reply": "2022-08-09T14:48:47.784085Z"
    },
    "papermill": {
     "duration": 0.028985,
     "end_time": "2022-08-09T14:48:47.787479",
     "exception": false,
     "start_time": "2022-08-09T14:48:47.758494",
     "status": "completed"
    },
    "tags": []
   },
   "outputs": [],
   "source": [
    "train_features_prepared = train_features_prepared_dropped1"
   ]
  },
  {
   "cell_type": "markdown",
   "id": "fcd72260",
   "metadata": {
    "papermill": {
     "duration": 0.02041,
     "end_time": "2022-08-09T14:48:47.828625",
     "exception": false,
     "start_time": "2022-08-09T14:48:47.808215",
     "status": "completed"
    },
    "tags": []
   },
   "source": [
    "**Retrain the final model**"
   ]
  },
  {
   "cell_type": "code",
   "execution_count": 46,
   "id": "e169c64d",
   "metadata": {
    "execution": {
     "iopub.execute_input": "2022-08-09T14:48:47.871398Z",
     "iopub.status.busy": "2022-08-09T14:48:47.871005Z",
     "iopub.status.idle": "2022-08-09T14:48:49.211706Z",
     "shell.execute_reply": "2022-08-09T14:48:49.210667Z"
    },
    "papermill": {
     "duration": 1.3651,
     "end_time": "2022-08-09T14:48:49.214231",
     "exception": false,
     "start_time": "2022-08-09T14:48:47.849131",
     "status": "completed"
    },
    "tags": []
   },
   "outputs": [
    {
     "data": {
      "text/plain": [
       "RandomForestClassifier(max_depth=4, n_estimators=500, n_jobs=-1, oob_score=True)"
      ]
     },
     "execution_count": 46,
     "metadata": {},
     "output_type": "execute_result"
    }
   ],
   "source": [
    "\n",
    "rnd_clf_final = RandomForestClassifier(max_depth=4, n_estimators=500, n_jobs=-1, oob_score=True)\n",
    "\n",
    "rnd_clf_final.fit(train_features_prepared, train_labels)"
   ]
  },
  {
   "cell_type": "code",
   "execution_count": 47,
   "id": "7abc4f7f",
   "metadata": {
    "execution": {
     "iopub.execute_input": "2022-08-09T14:48:49.258182Z",
     "iopub.status.busy": "2022-08-09T14:48:49.257797Z",
     "iopub.status.idle": "2022-08-09T14:48:49.473051Z",
     "shell.execute_reply": "2022-08-09T14:48:49.471921Z"
    },
    "papermill": {
     "duration": 0.240196,
     "end_time": "2022-08-09T14:48:49.475832",
     "exception": false,
     "start_time": "2022-08-09T14:48:49.235636",
     "status": "completed"
    },
    "tags": []
   },
   "outputs": [
    {
     "data": {
      "text/plain": [
       "0.835016835016835"
      ]
     },
     "execution_count": 47,
     "metadata": {},
     "output_type": "execute_result"
    }
   ],
   "source": [
    "from sklearn.metrics import accuracy_score\n",
    "\n",
    "y_pred_train = rnd_clf_final.predict(train_features_prepared)\n",
    "accuracy_score(train_labels, y_pred_train)"
   ]
  },
  {
   "cell_type": "markdown",
   "id": "093b8272",
   "metadata": {
    "papermill": {
     "duration": 0.020277,
     "end_time": "2022-08-09T14:48:49.516740",
     "exception": false,
     "start_time": "2022-08-09T14:48:49.496463",
     "status": "completed"
    },
    "tags": []
   },
   "source": [
    "**Predict test_features_prepared**"
   ]
  },
  {
   "cell_type": "code",
   "execution_count": 48,
   "id": "9b51019e",
   "metadata": {
    "execution": {
     "iopub.execute_input": "2022-08-09T14:48:49.559901Z",
     "iopub.status.busy": "2022-08-09T14:48:49.559224Z",
     "iopub.status.idle": "2022-08-09T14:48:49.572054Z",
     "shell.execute_reply": "2022-08-09T14:48:49.570995Z"
    },
    "papermill": {
     "duration": 0.037314,
     "end_time": "2022-08-09T14:48:49.574674",
     "exception": false,
     "start_time": "2022-08-09T14:48:49.537360",
     "status": "completed"
    },
    "tags": []
   },
   "outputs": [],
   "source": [
    "test_features_prepared[\"male_age\"] = test_features_prepared[\"male\"] * test_features_prepared[\"Age_cat\"]\n",
    "test_features_prepared[\"female_age\"] = test_features_prepared[\"female\"] * test_features_prepared[\"Age_cat\"]\n",
    "test_features_prepared[\"male_partners\"] = test_features_prepared[\"male\"] * test_features_prepared[\"Partners_cat\"]\n",
    "test_features_prepared[\"female_partners\"] = test_features_prepared[\"female\"] * test_features_prepared[\"Partners_cat\"]\n",
    "\n",
    "test_features_prepared = test_features_prepared.drop(['S', \"C\", \"Q\", \"Parch\", 'Age_cat'], axis=1)"
   ]
  },
  {
   "cell_type": "code",
   "execution_count": 49,
   "id": "efb1ed2d",
   "metadata": {
    "execution": {
     "iopub.execute_input": "2022-08-09T14:48:49.617939Z",
     "iopub.status.busy": "2022-08-09T14:48:49.617537Z",
     "iopub.status.idle": "2022-08-09T14:48:49.633202Z",
     "shell.execute_reply": "2022-08-09T14:48:49.631918Z"
    },
    "papermill": {
     "duration": 0.042576,
     "end_time": "2022-08-09T14:48:49.637992",
     "exception": false,
     "start_time": "2022-08-09T14:48:49.595416",
     "status": "completed"
    },
    "tags": []
   },
   "outputs": [
    {
     "name": "stdout",
     "output_type": "stream",
     "text": [
      "<class 'pandas.core.frame.DataFrame'>\n",
      "RangeIndex: 418 entries, 0 to 417\n",
      "Data columns (total 17 columns):\n",
      " #   Column           Non-Null Count  Dtype  \n",
      "---  ------           --------------  -----  \n",
      " 0   SibSp            418 non-null    float64\n",
      " 1   Fare             417 non-null    float64\n",
      " 2   female           418 non-null    float64\n",
      " 3   male             418 non-null    float64\n",
      " 4   Master           418 non-null    float64\n",
      " 5   Miss             418 non-null    float64\n",
      " 6   Mr               418 non-null    float64\n",
      " 7   Mrs              418 non-null    float64\n",
      " 8   rare             418 non-null    float64\n",
      " 9   1                418 non-null    float64\n",
      " 10  2                418 non-null    float64\n",
      " 11  3                418 non-null    float64\n",
      " 12  Partners_cat     418 non-null    float64\n",
      " 13  male_age         418 non-null    float64\n",
      " 14  female_age       418 non-null    float64\n",
      " 15  male_partners    418 non-null    float64\n",
      " 16  female_partners  418 non-null    float64\n",
      "dtypes: float64(17)\n",
      "memory usage: 55.6 KB\n"
     ]
    }
   ],
   "source": [
    "test_features_prepared.info()"
   ]
  },
  {
   "cell_type": "markdown",
   "id": "e9bd00c8",
   "metadata": {
    "papermill": {
     "duration": 0.020341,
     "end_time": "2022-08-09T14:48:49.679116",
     "exception": false,
     "start_time": "2022-08-09T14:48:49.658775",
     "status": "completed"
    },
    "tags": []
   },
   "source": [
    "There is a missing value in Fare."
   ]
  },
  {
   "cell_type": "code",
   "execution_count": 50,
   "id": "93c58d43",
   "metadata": {
    "execution": {
     "iopub.execute_input": "2022-08-09T14:48:49.722915Z",
     "iopub.status.busy": "2022-08-09T14:48:49.722510Z",
     "iopub.status.idle": "2022-08-09T14:48:49.739304Z",
     "shell.execute_reply": "2022-08-09T14:48:49.737894Z"
    },
    "papermill": {
     "duration": 0.041872,
     "end_time": "2022-08-09T14:48:49.741634",
     "exception": false,
     "start_time": "2022-08-09T14:48:49.699762",
     "status": "completed"
    },
    "tags": []
   },
   "outputs": [
    {
     "name": "stdout",
     "output_type": "stream",
     "text": [
      "<class 'pandas.core.frame.DataFrame'>\n",
      "RangeIndex: 418 entries, 0 to 417\n",
      "Data columns (total 17 columns):\n",
      " #   Column           Non-Null Count  Dtype  \n",
      "---  ------           --------------  -----  \n",
      " 0   SibSp            418 non-null    float64\n",
      " 1   Fare             418 non-null    float64\n",
      " 2   female           418 non-null    float64\n",
      " 3   male             418 non-null    float64\n",
      " 4   Master           418 non-null    float64\n",
      " 5   Miss             418 non-null    float64\n",
      " 6   Mr               418 non-null    float64\n",
      " 7   Mrs              418 non-null    float64\n",
      " 8   rare             418 non-null    float64\n",
      " 9   1                418 non-null    float64\n",
      " 10  2                418 non-null    float64\n",
      " 11  3                418 non-null    float64\n",
      " 12  Partners_cat     418 non-null    float64\n",
      " 13  male_age         418 non-null    float64\n",
      " 14  female_age       418 non-null    float64\n",
      " 15  male_partners    418 non-null    float64\n",
      " 16  female_partners  418 non-null    float64\n",
      "dtypes: float64(17)\n",
      "memory usage: 55.6 KB\n"
     ]
    }
   ],
   "source": [
    "median = train_features_prepared.Fare.median()\n",
    "test_features_prepared[\"Fare\"] = test_features_prepared[\"Fare\"].fillna(median)\n",
    "test_features_prepared.info()"
   ]
  },
  {
   "cell_type": "code",
   "execution_count": 51,
   "id": "7a15eb37",
   "metadata": {
    "execution": {
     "iopub.execute_input": "2022-08-09T14:48:49.785791Z",
     "iopub.status.busy": "2022-08-09T14:48:49.784786Z",
     "iopub.status.idle": "2022-08-09T14:48:49.994262Z",
     "shell.execute_reply": "2022-08-09T14:48:49.993241Z"
    },
    "papermill": {
     "duration": 0.234189,
     "end_time": "2022-08-09T14:48:49.996944",
     "exception": false,
     "start_time": "2022-08-09T14:48:49.762755",
     "status": "completed"
    },
    "tags": []
   },
   "outputs": [],
   "source": [
    "y_pred = rnd_clf_final.predict(test_features_prepared)"
   ]
  },
  {
   "cell_type": "code",
   "execution_count": 52,
   "id": "00c8986c",
   "metadata": {
    "execution": {
     "iopub.execute_input": "2022-08-09T14:48:50.041203Z",
     "iopub.status.busy": "2022-08-09T14:48:50.040815Z",
     "iopub.status.idle": "2022-08-09T14:48:50.053840Z",
     "shell.execute_reply": "2022-08-09T14:48:50.052780Z"
    },
    "papermill": {
     "duration": 0.038161,
     "end_time": "2022-08-09T14:48:50.056421",
     "exception": false,
     "start_time": "2022-08-09T14:48:50.018260",
     "status": "completed"
    },
    "tags": []
   },
   "outputs": [
    {
     "data": {
      "text/html": [
       "<div>\n",
       "<style scoped>\n",
       "    .dataframe tbody tr th:only-of-type {\n",
       "        vertical-align: middle;\n",
       "    }\n",
       "\n",
       "    .dataframe tbody tr th {\n",
       "        vertical-align: top;\n",
       "    }\n",
       "\n",
       "    .dataframe thead th {\n",
       "        text-align: right;\n",
       "    }\n",
       "</style>\n",
       "<table border=\"1\" class=\"dataframe\">\n",
       "  <thead>\n",
       "    <tr style=\"text-align: right;\">\n",
       "      <th></th>\n",
       "      <th>PassengerId</th>\n",
       "      <th>Survived</th>\n",
       "    </tr>\n",
       "  </thead>\n",
       "  <tbody>\n",
       "    <tr>\n",
       "      <th>0</th>\n",
       "      <td>892</td>\n",
       "      <td>0</td>\n",
       "    </tr>\n",
       "    <tr>\n",
       "      <th>1</th>\n",
       "      <td>893</td>\n",
       "      <td>1</td>\n",
       "    </tr>\n",
       "    <tr>\n",
       "      <th>2</th>\n",
       "      <td>894</td>\n",
       "      <td>0</td>\n",
       "    </tr>\n",
       "    <tr>\n",
       "      <th>3</th>\n",
       "      <td>895</td>\n",
       "      <td>0</td>\n",
       "    </tr>\n",
       "    <tr>\n",
       "      <th>4</th>\n",
       "      <td>896</td>\n",
       "      <td>1</td>\n",
       "    </tr>\n",
       "    <tr>\n",
       "      <th>...</th>\n",
       "      <td>...</td>\n",
       "      <td>...</td>\n",
       "    </tr>\n",
       "    <tr>\n",
       "      <th>413</th>\n",
       "      <td>1305</td>\n",
       "      <td>0</td>\n",
       "    </tr>\n",
       "    <tr>\n",
       "      <th>414</th>\n",
       "      <td>1306</td>\n",
       "      <td>1</td>\n",
       "    </tr>\n",
       "    <tr>\n",
       "      <th>415</th>\n",
       "      <td>1307</td>\n",
       "      <td>0</td>\n",
       "    </tr>\n",
       "    <tr>\n",
       "      <th>416</th>\n",
       "      <td>1308</td>\n",
       "      <td>0</td>\n",
       "    </tr>\n",
       "    <tr>\n",
       "      <th>417</th>\n",
       "      <td>1309</td>\n",
       "      <td>1</td>\n",
       "    </tr>\n",
       "  </tbody>\n",
       "</table>\n",
       "<p>418 rows × 2 columns</p>\n",
       "</div>"
      ],
      "text/plain": [
       "     PassengerId  Survived\n",
       "0            892         0\n",
       "1            893         1\n",
       "2            894         0\n",
       "3            895         0\n",
       "4            896         1\n",
       "..           ...       ...\n",
       "413         1305         0\n",
       "414         1306         1\n",
       "415         1307         0\n",
       "416         1308         0\n",
       "417         1309         1\n",
       "\n",
       "[418 rows x 2 columns]"
      ]
     },
     "execution_count": 52,
     "metadata": {},
     "output_type": "execute_result"
    }
   ],
   "source": [
    "y_pred = pd.DataFrame({'PassengerId':test_data.PassengerId, 'Survived':y_pred})\n",
    "y_pred"
   ]
  },
  {
   "cell_type": "code",
   "execution_count": 53,
   "id": "93cac39d",
   "metadata": {
    "execution": {
     "iopub.execute_input": "2022-08-09T14:48:50.101002Z",
     "iopub.status.busy": "2022-08-09T14:48:50.100597Z",
     "iopub.status.idle": "2022-08-09T14:48:50.109838Z",
     "shell.execute_reply": "2022-08-09T14:48:50.109069Z"
    },
    "papermill": {
     "duration": 0.034065,
     "end_time": "2022-08-09T14:48:50.112024",
     "exception": false,
     "start_time": "2022-08-09T14:48:50.077959",
     "status": "completed"
    },
    "tags": []
   },
   "outputs": [],
   "source": [
    "y_pred.to_csv('y_pred.csv', index=False)"
   ]
  }
 ],
 "metadata": {
  "kernelspec": {
   "display_name": "Python 3",
   "language": "python",
   "name": "python3"
  },
  "language_info": {
   "codemirror_mode": {
    "name": "ipython",
    "version": 3
   },
   "file_extension": ".py",
   "mimetype": "text/x-python",
   "name": "python",
   "nbconvert_exporter": "python",
   "pygments_lexer": "ipython3",
   "version": "3.7.12"
  },
  "papermill": {
   "default_parameters": {},
   "duration": 98.112037,
   "end_time": "2022-08-09T14:48:52.757863",
   "environment_variables": {},
   "exception": null,
   "input_path": "__notebook__.ipynb",
   "output_path": "__notebook__.ipynb",
   "parameters": {},
   "start_time": "2022-08-09T14:47:14.645826",
   "version": "2.3.4"
  }
 },
 "nbformat": 4,
 "nbformat_minor": 5
}
